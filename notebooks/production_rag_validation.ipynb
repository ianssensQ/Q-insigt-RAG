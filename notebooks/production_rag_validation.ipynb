{
  "cells": [
    {
      "cell_type": "markdown",
      "source": [
        "# Test RAG\n",
        "\n",
        "В этом блокноте мы показываем, как мы тестировали собственную архитектуру RAG.\n",
        "\n",
        "Основные разделы:\n",
        "1. Выбор параметров для тестирования\n",
        "2. Валидация с помощью **RAGAS**\n",
        "3. Результаты"
      ],
      "metadata": {
        "id": "nzunwlJmbAW2"
      }
    },
    {
      "cell_type": "markdown",
      "source": [
        "## Necessary imports"
      ],
      "metadata": {
        "id": "tp-Ay_jcbqt6"
      }
    },
    {
      "cell_type": "code",
      "source": [
        "!pip install -U langchain langchain-community chromadb sentence-transformers tqdm datasets langchain_experimental ragas langchain_huggingface rank_bm25"
      ],
      "metadata": {
        "colab": {
          "base_uri": "https://localhost:8080/"
        },
        "collapsed": true,
        "id": "yqhfWRhC_QyM",
        "outputId": "c9b4c5d5-125b-49a7-dba2-deafe530a8b5"
      },
      "execution_count": null,
      "outputs": [
        {
          "output_type": "stream",
          "name": "stdout",
          "text": [
            "Collecting langchain\n",
            "  Downloading langchain-0.2.16-py3-none-any.whl.metadata (7.1 kB)\n",
            "Collecting langchain-community\n",
            "  Downloading langchain_community-0.2.16-py3-none-any.whl.metadata (2.7 kB)\n",
            "Collecting chromadb\n",
            "  Downloading chromadb-0.5.5-py3-none-any.whl.metadata (6.8 kB)\n",
            "Collecting sentence-transformers\n",
            "  Downloading sentence_transformers-3.1.0-py3-none-any.whl.metadata (23 kB)\n",
            "Requirement already satisfied: tqdm in /usr/local/lib/python3.10/dist-packages (4.66.5)\n",
            "Collecting datasets\n",
            "  Downloading datasets-3.0.0-py3-none-any.whl.metadata (19 kB)\n",
            "Collecting langchain_experimental\n",
            "  Downloading langchain_experimental-0.0.65-py3-none-any.whl.metadata (1.7 kB)\n",
            "Collecting ragas\n",
            "  Downloading ragas-0.1.18-py3-none-any.whl.metadata (5.4 kB)\n",
            "Collecting langchain_huggingface\n",
            "  Downloading langchain_huggingface-0.0.3-py3-none-any.whl.metadata (1.2 kB)\n",
            "Collecting rank_bm25\n",
            "  Downloading rank_bm25-0.2.2-py3-none-any.whl.metadata (3.2 kB)\n",
            "Requirement already satisfied: PyYAML>=5.3 in /usr/local/lib/python3.10/dist-packages (from langchain) (6.0.2)\n",
            "Requirement already satisfied: SQLAlchemy<3,>=1.4 in /usr/local/lib/python3.10/dist-packages (from langchain) (2.0.34)\n",
            "Requirement already satisfied: aiohttp<4.0.0,>=3.8.3 in /usr/local/lib/python3.10/dist-packages (from langchain) (3.10.5)\n",
            "Requirement already satisfied: async-timeout<5.0.0,>=4.0.0 in /usr/local/lib/python3.10/dist-packages (from langchain) (4.0.3)\n",
            "Collecting langchain-core<0.3.0,>=0.2.38 (from langchain)\n",
            "  Downloading langchain_core-0.2.39-py3-none-any.whl.metadata (6.2 kB)\n",
            "Collecting langchain-text-splitters<0.3.0,>=0.2.0 (from langchain)\n",
            "  Downloading langchain_text_splitters-0.2.4-py3-none-any.whl.metadata (2.3 kB)\n",
            "Collecting langsmith<0.2.0,>=0.1.17 (from langchain)\n",
            "  Downloading langsmith-0.1.120-py3-none-any.whl.metadata (13 kB)\n",
            "Requirement already satisfied: numpy<2,>=1 in /usr/local/lib/python3.10/dist-packages (from langchain) (1.26.4)\n",
            "Requirement already satisfied: pydantic<3,>=1 in /usr/local/lib/python3.10/dist-packages (from langchain) (2.9.1)\n",
            "Requirement already satisfied: requests<3,>=2 in /usr/local/lib/python3.10/dist-packages (from langchain) (2.32.3)\n",
            "Collecting tenacity!=8.4.0,<9.0.0,>=8.1.0 (from langchain)\n",
            "  Downloading tenacity-8.5.0-py3-none-any.whl.metadata (1.2 kB)\n",
            "Collecting dataclasses-json<0.7,>=0.5.7 (from langchain-community)\n",
            "  Downloading dataclasses_json-0.6.7-py3-none-any.whl.metadata (25 kB)\n",
            "Requirement already satisfied: build>=1.0.3 in /usr/local/lib/python3.10/dist-packages (from chromadb) (1.2.2)\n",
            "Collecting chroma-hnswlib==0.7.6 (from chromadb)\n",
            "  Downloading chroma_hnswlib-0.7.6-cp310-cp310-manylinux_2_17_x86_64.manylinux2014_x86_64.whl.metadata (252 bytes)\n",
            "Collecting fastapi>=0.95.2 (from chromadb)\n",
            "  Downloading fastapi-0.114.1-py3-none-any.whl.metadata (27 kB)\n",
            "Collecting uvicorn>=0.18.3 (from uvicorn[standard]>=0.18.3->chromadb)\n",
            "  Downloading uvicorn-0.30.6-py3-none-any.whl.metadata (6.6 kB)\n",
            "Collecting posthog>=2.4.0 (from chromadb)\n",
            "  Downloading posthog-3.6.5-py2.py3-none-any.whl.metadata (2.0 kB)\n",
            "Requirement already satisfied: typing-extensions>=4.5.0 in /usr/local/lib/python3.10/dist-packages (from chromadb) (4.12.2)\n",
            "Collecting onnxruntime>=1.14.1 (from chromadb)\n",
            "  Downloading onnxruntime-1.19.2-cp310-cp310-manylinux_2_27_x86_64.manylinux_2_28_x86_64.whl.metadata (4.5 kB)\n",
            "Collecting opentelemetry-api>=1.2.0 (from chromadb)\n",
            "  Downloading opentelemetry_api-1.27.0-py3-none-any.whl.metadata (1.4 kB)\n",
            "Collecting opentelemetry-exporter-otlp-proto-grpc>=1.2.0 (from chromadb)\n",
            "  Downloading opentelemetry_exporter_otlp_proto_grpc-1.27.0-py3-none-any.whl.metadata (2.3 kB)\n",
            "Collecting opentelemetry-instrumentation-fastapi>=0.41b0 (from chromadb)\n",
            "  Downloading opentelemetry_instrumentation_fastapi-0.48b0-py3-none-any.whl.metadata (2.1 kB)\n",
            "Collecting opentelemetry-sdk>=1.2.0 (from chromadb)\n",
            "  Downloading opentelemetry_sdk-1.27.0-py3-none-any.whl.metadata (1.5 kB)\n",
            "Requirement already satisfied: tokenizers>=0.13.2 in /usr/local/lib/python3.10/dist-packages (from chromadb) (0.19.1)\n",
            "Collecting pypika>=0.48.9 (from chromadb)\n",
            "  Downloading PyPika-0.48.9.tar.gz (67 kB)\n",
            "\u001b[2K     \u001b[90m━━━━━━━━━━━━━━━━━━━━━━━━━━━━━━━━━━━━━━━━\u001b[0m \u001b[32m67.3/67.3 kB\u001b[0m \u001b[31m2.6 MB/s\u001b[0m eta \u001b[36m0:00:00\u001b[0m\n",
            "\u001b[?25h  Installing build dependencies ... \u001b[?25l\u001b[?25hdone\n",
            "  Getting requirements to build wheel ... \u001b[?25l\u001b[?25hdone\n",
            "  Preparing metadata (pyproject.toml) ... \u001b[?25l\u001b[?25hdone\n",
            "Collecting overrides>=7.3.1 (from chromadb)\n",
            "  Downloading overrides-7.7.0-py3-none-any.whl.metadata (5.8 kB)\n",
            "Requirement already satisfied: importlib-resources in /usr/local/lib/python3.10/dist-packages (from chromadb) (6.4.5)\n",
            "Requirement already satisfied: grpcio>=1.58.0 in /usr/local/lib/python3.10/dist-packages (from chromadb) (1.64.1)\n",
            "Collecting bcrypt>=4.0.1 (from chromadb)\n",
            "  Downloading bcrypt-4.2.0-cp39-abi3-manylinux_2_28_x86_64.whl.metadata (9.6 kB)\n",
            "Requirement already satisfied: typer>=0.9.0 in /usr/local/lib/python3.10/dist-packages (from chromadb) (0.12.5)\n",
            "Collecting kubernetes>=28.1.0 (from chromadb)\n",
            "  Downloading kubernetes-30.1.0-py2.py3-none-any.whl.metadata (1.5 kB)\n",
            "Collecting mmh3>=4.0.1 (from chromadb)\n",
            "  Downloading mmh3-4.1.0-cp310-cp310-manylinux_2_5_x86_64.manylinux1_x86_64.manylinux_2_17_x86_64.manylinux2014_x86_64.whl.metadata (13 kB)\n",
            "Collecting orjson>=3.9.12 (from chromadb)\n",
            "  Downloading orjson-3.10.7-cp310-cp310-manylinux_2_17_x86_64.manylinux2014_x86_64.whl.metadata (50 kB)\n",
            "\u001b[2K     \u001b[90m━━━━━━━━━━━━━━━━━━━━━━━━━━━━━━━━━━━━━━━━\u001b[0m \u001b[32m50.4/50.4 kB\u001b[0m \u001b[31m1.4 MB/s\u001b[0m eta \u001b[36m0:00:00\u001b[0m\n",
            "\u001b[?25hCollecting httpx>=0.27.0 (from chromadb)\n",
            "  Downloading httpx-0.27.2-py3-none-any.whl.metadata (7.1 kB)\n",
            "Requirement already satisfied: transformers<5.0.0,>=4.38.0 in /usr/local/lib/python3.10/dist-packages (from sentence-transformers) (4.44.2)\n",
            "Requirement already satisfied: torch>=1.11.0 in /usr/local/lib/python3.10/dist-packages (from sentence-transformers) (2.4.0+cu121)\n",
            "Requirement already satisfied: scikit-learn in /usr/local/lib/python3.10/dist-packages (from sentence-transformers) (1.3.2)\n",
            "Requirement already satisfied: scipy in /usr/local/lib/python3.10/dist-packages (from sentence-transformers) (1.13.1)\n",
            "Requirement already satisfied: huggingface-hub>=0.19.3 in /usr/local/lib/python3.10/dist-packages (from sentence-transformers) (0.24.6)\n",
            "Requirement already satisfied: Pillow in /usr/local/lib/python3.10/dist-packages (from sentence-transformers) (9.4.0)\n",
            "Requirement already satisfied: filelock in /usr/local/lib/python3.10/dist-packages (from datasets) (3.16.0)\n",
            "Collecting pyarrow>=15.0.0 (from datasets)\n",
            "  Downloading pyarrow-17.0.0-cp310-cp310-manylinux_2_28_x86_64.whl.metadata (3.3 kB)\n",
            "Collecting dill<0.3.9,>=0.3.0 (from datasets)\n",
            "  Downloading dill-0.3.8-py3-none-any.whl.metadata (10 kB)\n",
            "Requirement already satisfied: pandas in /usr/local/lib/python3.10/dist-packages (from datasets) (2.1.4)\n",
            "Collecting xxhash (from datasets)\n",
            "  Downloading xxhash-3.5.0-cp310-cp310-manylinux_2_17_x86_64.manylinux2014_x86_64.whl.metadata (12 kB)\n",
            "Collecting multiprocess (from datasets)\n",
            "  Downloading multiprocess-0.70.16-py310-none-any.whl.metadata (7.2 kB)\n",
            "Requirement already satisfied: fsspec<=2024.6.1,>=2023.1.0 in /usr/local/lib/python3.10/dist-packages (from fsspec[http]<=2024.6.1,>=2023.1.0->datasets) (2024.6.1)\n",
            "Requirement already satisfied: packaging in /usr/local/lib/python3.10/dist-packages (from datasets) (24.1)\n",
            "Collecting tiktoken (from ragas)\n",
            "  Downloading tiktoken-0.7.0-cp310-cp310-manylinux_2_17_x86_64.manylinux2014_x86_64.whl.metadata (6.6 kB)\n",
            "Collecting langchain-openai (from ragas)\n",
            "  Downloading langchain_openai-0.1.24-py3-none-any.whl.metadata (2.6 kB)\n",
            "Collecting openai>1 (from ragas)\n",
            "  Downloading openai-1.45.0-py3-none-any.whl.metadata (22 kB)\n",
            "Collecting pysbd>=0.3.4 (from ragas)\n",
            "  Downloading pysbd-0.3.4-py3-none-any.whl.metadata (6.1 kB)\n",
            "Requirement already satisfied: nest-asyncio in /usr/local/lib/python3.10/dist-packages (from ragas) (1.6.0)\n",
            "Collecting appdirs (from ragas)\n",
            "  Downloading appdirs-1.4.4-py2.py3-none-any.whl.metadata (9.0 kB)\n",
            "Requirement already satisfied: aiohappyeyeballs>=2.3.0 in /usr/local/lib/python3.10/dist-packages (from aiohttp<4.0.0,>=3.8.3->langchain) (2.4.0)\n",
            "Requirement already satisfied: aiosignal>=1.1.2 in /usr/local/lib/python3.10/dist-packages (from aiohttp<4.0.0,>=3.8.3->langchain) (1.3.1)\n",
            "Requirement already satisfied: attrs>=17.3.0 in /usr/local/lib/python3.10/dist-packages (from aiohttp<4.0.0,>=3.8.3->langchain) (24.2.0)\n",
            "Requirement already satisfied: frozenlist>=1.1.1 in /usr/local/lib/python3.10/dist-packages (from aiohttp<4.0.0,>=3.8.3->langchain) (1.4.1)\n",
            "Requirement already satisfied: multidict<7.0,>=4.5 in /usr/local/lib/python3.10/dist-packages (from aiohttp<4.0.0,>=3.8.3->langchain) (6.1.0)\n",
            "Requirement already satisfied: yarl<2.0,>=1.0 in /usr/local/lib/python3.10/dist-packages (from aiohttp<4.0.0,>=3.8.3->langchain) (1.11.1)\n",
            "Requirement already satisfied: pyproject_hooks in /usr/local/lib/python3.10/dist-packages (from build>=1.0.3->chromadb) (1.1.0)\n",
            "Requirement already satisfied: tomli>=1.1.0 in /usr/local/lib/python3.10/dist-packages (from build>=1.0.3->chromadb) (2.0.1)\n",
            "Collecting marshmallow<4.0.0,>=3.18.0 (from dataclasses-json<0.7,>=0.5.7->langchain-community)\n",
            "  Downloading marshmallow-3.22.0-py3-none-any.whl.metadata (7.2 kB)\n",
            "Collecting typing-inspect<1,>=0.4.0 (from dataclasses-json<0.7,>=0.5.7->langchain-community)\n",
            "  Downloading typing_inspect-0.9.0-py3-none-any.whl.metadata (1.5 kB)\n",
            "Collecting starlette<0.39.0,>=0.37.2 (from fastapi>=0.95.2->chromadb)\n",
            "  Downloading starlette-0.38.5-py3-none-any.whl.metadata (6.0 kB)\n",
            "Requirement already satisfied: anyio in /usr/local/lib/python3.10/dist-packages (from httpx>=0.27.0->chromadb) (3.7.1)\n",
            "Requirement already satisfied: certifi in /usr/local/lib/python3.10/dist-packages (from httpx>=0.27.0->chromadb) (2024.8.30)\n",
            "Collecting httpcore==1.* (from httpx>=0.27.0->chromadb)\n",
            "  Downloading httpcore-1.0.5-py3-none-any.whl.metadata (20 kB)\n",
            "Requirement already satisfied: idna in /usr/local/lib/python3.10/dist-packages (from httpx>=0.27.0->chromadb) (3.8)\n",
            "Requirement already satisfied: sniffio in /usr/local/lib/python3.10/dist-packages (from httpx>=0.27.0->chromadb) (1.3.1)\n",
            "Collecting h11<0.15,>=0.13 (from httpcore==1.*->httpx>=0.27.0->chromadb)\n",
            "  Downloading h11-0.14.0-py3-none-any.whl.metadata (8.2 kB)\n",
            "Requirement already satisfied: six>=1.9.0 in /usr/local/lib/python3.10/dist-packages (from kubernetes>=28.1.0->chromadb) (1.16.0)\n",
            "Requirement already satisfied: python-dateutil>=2.5.3 in /usr/local/lib/python3.10/dist-packages (from kubernetes>=28.1.0->chromadb) (2.8.2)\n",
            "Requirement already satisfied: google-auth>=1.0.1 in /usr/local/lib/python3.10/dist-packages (from kubernetes>=28.1.0->chromadb) (2.27.0)\n",
            "Requirement already satisfied: websocket-client!=0.40.0,!=0.41.*,!=0.42.*,>=0.32.0 in /usr/local/lib/python3.10/dist-packages (from kubernetes>=28.1.0->chromadb) (1.8.0)\n",
            "Requirement already satisfied: requests-oauthlib in /usr/local/lib/python3.10/dist-packages (from kubernetes>=28.1.0->chromadb) (1.3.1)\n",
            "Requirement already satisfied: oauthlib>=3.2.2 in /usr/local/lib/python3.10/dist-packages (from kubernetes>=28.1.0->chromadb) (3.2.2)\n",
            "Requirement already satisfied: urllib3>=1.24.2 in /usr/local/lib/python3.10/dist-packages (from kubernetes>=28.1.0->chromadb) (2.0.7)\n",
            "Collecting jsonpatch<2.0,>=1.33 (from langchain-core<0.3.0,>=0.2.38->langchain)\n",
            "  Downloading jsonpatch-1.33-py2.py3-none-any.whl.metadata (3.0 kB)\n",
            "Collecting coloredlogs (from onnxruntime>=1.14.1->chromadb)\n",
            "  Downloading coloredlogs-15.0.1-py2.py3-none-any.whl.metadata (12 kB)\n",
            "Requirement already satisfied: flatbuffers in /usr/local/lib/python3.10/dist-packages (from onnxruntime>=1.14.1->chromadb) (24.3.25)\n",
            "Requirement already satisfied: protobuf in /usr/local/lib/python3.10/dist-packages (from onnxruntime>=1.14.1->chromadb) (3.20.3)\n",
            "Requirement already satisfied: sympy in /usr/local/lib/python3.10/dist-packages (from onnxruntime>=1.14.1->chromadb) (1.13.2)\n",
            "Requirement already satisfied: distro<2,>=1.7.0 in /usr/lib/python3/dist-packages (from openai>1->ragas) (1.7.0)\n",
            "Collecting jiter<1,>=0.4.0 (from openai>1->ragas)\n",
            "  Downloading jiter-0.5.0-cp310-cp310-manylinux_2_17_x86_64.manylinux2014_x86_64.whl.metadata (3.6 kB)\n",
            "Collecting deprecated>=1.2.6 (from opentelemetry-api>=1.2.0->chromadb)\n",
            "  Downloading Deprecated-1.2.14-py2.py3-none-any.whl.metadata (5.4 kB)\n",
            "Requirement already satisfied: importlib-metadata<=8.4.0,>=6.0 in /usr/local/lib/python3.10/dist-packages (from opentelemetry-api>=1.2.0->chromadb) (8.4.0)\n",
            "Requirement already satisfied: googleapis-common-protos~=1.52 in /usr/local/lib/python3.10/dist-packages (from opentelemetry-exporter-otlp-proto-grpc>=1.2.0->chromadb) (1.65.0)\n",
            "Collecting opentelemetry-exporter-otlp-proto-common==1.27.0 (from opentelemetry-exporter-otlp-proto-grpc>=1.2.0->chromadb)\n",
            "  Downloading opentelemetry_exporter_otlp_proto_common-1.27.0-py3-none-any.whl.metadata (1.8 kB)\n",
            "Collecting opentelemetry-proto==1.27.0 (from opentelemetry-exporter-otlp-proto-grpc>=1.2.0->chromadb)\n",
            "  Downloading opentelemetry_proto-1.27.0-py3-none-any.whl.metadata (2.3 kB)\n",
            "Collecting opentelemetry-instrumentation-asgi==0.48b0 (from opentelemetry-instrumentation-fastapi>=0.41b0->chromadb)\n",
            "  Downloading opentelemetry_instrumentation_asgi-0.48b0-py3-none-any.whl.metadata (2.0 kB)\n",
            "Collecting opentelemetry-instrumentation==0.48b0 (from opentelemetry-instrumentation-fastapi>=0.41b0->chromadb)\n",
            "  Downloading opentelemetry_instrumentation-0.48b0-py3-none-any.whl.metadata (6.1 kB)\n",
            "Collecting opentelemetry-semantic-conventions==0.48b0 (from opentelemetry-instrumentation-fastapi>=0.41b0->chromadb)\n",
            "  Downloading opentelemetry_semantic_conventions-0.48b0-py3-none-any.whl.metadata (2.4 kB)\n",
            "Collecting opentelemetry-util-http==0.48b0 (from opentelemetry-instrumentation-fastapi>=0.41b0->chromadb)\n",
            "  Downloading opentelemetry_util_http-0.48b0-py3-none-any.whl.metadata (2.5 kB)\n",
            "Requirement already satisfied: setuptools>=16.0 in /usr/local/lib/python3.10/dist-packages (from opentelemetry-instrumentation==0.48b0->opentelemetry-instrumentation-fastapi>=0.41b0->chromadb) (71.0.4)\n",
            "Requirement already satisfied: wrapt<2.0.0,>=1.0.0 in /usr/local/lib/python3.10/dist-packages (from opentelemetry-instrumentation==0.48b0->opentelemetry-instrumentation-fastapi>=0.41b0->chromadb) (1.16.0)\n",
            "Collecting asgiref~=3.0 (from opentelemetry-instrumentation-asgi==0.48b0->opentelemetry-instrumentation-fastapi>=0.41b0->chromadb)\n",
            "  Downloading asgiref-3.8.1-py3-none-any.whl.metadata (9.3 kB)\n",
            "Collecting monotonic>=1.5 (from posthog>=2.4.0->chromadb)\n",
            "  Downloading monotonic-1.6-py2.py3-none-any.whl.metadata (1.5 kB)\n",
            "Collecting backoff>=1.10.0 (from posthog>=2.4.0->chromadb)\n",
            "  Downloading backoff-2.2.1-py3-none-any.whl.metadata (14 kB)\n",
            "Requirement already satisfied: annotated-types>=0.6.0 in /usr/local/lib/python3.10/dist-packages (from pydantic<3,>=1->langchain) (0.7.0)\n",
            "Requirement already satisfied: pydantic-core==2.23.3 in /usr/local/lib/python3.10/dist-packages (from pydantic<3,>=1->langchain) (2.23.3)\n",
            "Requirement already satisfied: charset-normalizer<4,>=2 in /usr/local/lib/python3.10/dist-packages (from requests<3,>=2->langchain) (3.3.2)\n",
            "Requirement already satisfied: greenlet!=0.4.17 in /usr/local/lib/python3.10/dist-packages (from SQLAlchemy<3,>=1.4->langchain) (3.1.0)\n",
            "Requirement already satisfied: networkx in /usr/local/lib/python3.10/dist-packages (from torch>=1.11.0->sentence-transformers) (3.3)\n",
            "Requirement already satisfied: jinja2 in /usr/local/lib/python3.10/dist-packages (from torch>=1.11.0->sentence-transformers) (3.1.4)\n",
            "Requirement already satisfied: regex!=2019.12.17 in /usr/local/lib/python3.10/dist-packages (from transformers<5.0.0,>=4.38.0->sentence-transformers) (2024.5.15)\n",
            "Requirement already satisfied: safetensors>=0.4.1 in /usr/local/lib/python3.10/dist-packages (from transformers<5.0.0,>=4.38.0->sentence-transformers) (0.4.5)\n",
            "Requirement already satisfied: click>=8.0.0 in /usr/local/lib/python3.10/dist-packages (from typer>=0.9.0->chromadb) (8.1.7)\n",
            "Requirement already satisfied: shellingham>=1.3.0 in /usr/local/lib/python3.10/dist-packages (from typer>=0.9.0->chromadb) (1.5.4)\n",
            "Requirement already satisfied: rich>=10.11.0 in /usr/local/lib/python3.10/dist-packages (from typer>=0.9.0->chromadb) (13.8.1)\n",
            "Collecting httptools>=0.5.0 (from uvicorn[standard]>=0.18.3->chromadb)\n",
            "  Downloading httptools-0.6.1-cp310-cp310-manylinux_2_5_x86_64.manylinux1_x86_64.manylinux_2_17_x86_64.manylinux2014_x86_64.whl.metadata (3.6 kB)\n",
            "Collecting python-dotenv>=0.13 (from uvicorn[standard]>=0.18.3->chromadb)\n",
            "  Downloading python_dotenv-1.0.1-py3-none-any.whl.metadata (23 kB)\n",
            "Collecting uvloop!=0.15.0,!=0.15.1,>=0.14.0 (from uvicorn[standard]>=0.18.3->chromadb)\n",
            "  Downloading uvloop-0.20.0-cp310-cp310-manylinux_2_17_x86_64.manylinux2014_x86_64.whl.metadata (4.9 kB)\n",
            "Collecting watchfiles>=0.13 (from uvicorn[standard]>=0.18.3->chromadb)\n",
            "  Downloading watchfiles-0.24.0-cp310-cp310-manylinux_2_17_x86_64.manylinux2014_x86_64.whl.metadata (4.9 kB)\n",
            "Collecting websockets>=10.4 (from uvicorn[standard]>=0.18.3->chromadb)\n",
            "  Downloading websockets-13.0.1-cp310-cp310-manylinux_2_5_x86_64.manylinux1_x86_64.manylinux_2_17_x86_64.manylinux2014_x86_64.whl.metadata (6.7 kB)\n",
            "Requirement already satisfied: pytz>=2020.1 in /usr/local/lib/python3.10/dist-packages (from pandas->datasets) (2024.1)\n",
            "Requirement already satisfied: tzdata>=2022.1 in /usr/local/lib/python3.10/dist-packages (from pandas->datasets) (2024.1)\n",
            "Requirement already satisfied: joblib>=1.1.1 in /usr/local/lib/python3.10/dist-packages (from scikit-learn->sentence-transformers) (1.4.2)\n",
            "Requirement already satisfied: threadpoolctl>=2.0.0 in /usr/local/lib/python3.10/dist-packages (from scikit-learn->sentence-transformers) (3.5.0)\n",
            "Requirement already satisfied: exceptiongroup in /usr/local/lib/python3.10/dist-packages (from anyio->httpx>=0.27.0->chromadb) (1.2.2)\n",
            "Requirement already satisfied: cachetools<6.0,>=2.0.0 in /usr/local/lib/python3.10/dist-packages (from google-auth>=1.0.1->kubernetes>=28.1.0->chromadb) (5.5.0)\n",
            "Requirement already satisfied: pyasn1-modules>=0.2.1 in /usr/local/lib/python3.10/dist-packages (from google-auth>=1.0.1->kubernetes>=28.1.0->chromadb) (0.4.0)\n",
            "Requirement already satisfied: rsa<5,>=3.1.4 in /usr/local/lib/python3.10/dist-packages (from google-auth>=1.0.1->kubernetes>=28.1.0->chromadb) (4.9)\n",
            "Requirement already satisfied: zipp>=0.5 in /usr/local/lib/python3.10/dist-packages (from importlib-metadata<=8.4.0,>=6.0->opentelemetry-api>=1.2.0->chromadb) (3.20.1)\n",
            "Collecting jsonpointer>=1.9 (from jsonpatch<2.0,>=1.33->langchain-core<0.3.0,>=0.2.38->langchain)\n",
            "  Downloading jsonpointer-3.0.0-py2.py3-none-any.whl.metadata (2.3 kB)\n",
            "Requirement already satisfied: markdown-it-py>=2.2.0 in /usr/local/lib/python3.10/dist-packages (from rich>=10.11.0->typer>=0.9.0->chromadb) (3.0.0)\n",
            "Requirement already satisfied: pygments<3.0.0,>=2.13.0 in /usr/local/lib/python3.10/dist-packages (from rich>=10.11.0->typer>=0.9.0->chromadb) (2.16.1)\n",
            "Collecting mypy-extensions>=0.3.0 (from typing-inspect<1,>=0.4.0->dataclasses-json<0.7,>=0.5.7->langchain-community)\n",
            "  Downloading mypy_extensions-1.0.0-py3-none-any.whl.metadata (1.1 kB)\n",
            "Collecting humanfriendly>=9.1 (from coloredlogs->onnxruntime>=1.14.1->chromadb)\n",
            "  Downloading humanfriendly-10.0-py2.py3-none-any.whl.metadata (9.2 kB)\n",
            "Requirement already satisfied: MarkupSafe>=2.0 in /usr/local/lib/python3.10/dist-packages (from jinja2->torch>=1.11.0->sentence-transformers) (2.1.5)\n",
            "Requirement already satisfied: mpmath<1.4,>=1.1.0 in /usr/local/lib/python3.10/dist-packages (from sympy->onnxruntime>=1.14.1->chromadb) (1.3.0)\n",
            "Requirement already satisfied: mdurl~=0.1 in /usr/local/lib/python3.10/dist-packages (from markdown-it-py>=2.2.0->rich>=10.11.0->typer>=0.9.0->chromadb) (0.1.2)\n",
            "Requirement already satisfied: pyasn1<0.7.0,>=0.4.6 in /usr/local/lib/python3.10/dist-packages (from pyasn1-modules>=0.2.1->google-auth>=1.0.1->kubernetes>=28.1.0->chromadb) (0.6.0)\n",
            "Downloading langchain-0.2.16-py3-none-any.whl (1.0 MB)\n",
            "\u001b[2K   \u001b[90m━━━━━━━━━━━━━━━━━━━━━━━━━━━━━━━━━━━━━━━━\u001b[0m \u001b[32m1.0/1.0 MB\u001b[0m \u001b[31m20.1 MB/s\u001b[0m eta \u001b[36m0:00:00\u001b[0m\n",
            "\u001b[?25hDownloading langchain_community-0.2.16-py3-none-any.whl (2.3 MB)\n",
            "\u001b[2K   \u001b[90m━━━━━━━━━━━━━━━━━━━━━━━━━━━━━━━━━━━━━━━━\u001b[0m \u001b[32m2.3/2.3 MB\u001b[0m \u001b[31m63.3 MB/s\u001b[0m eta \u001b[36m0:00:00\u001b[0m\n",
            "\u001b[?25hDownloading chromadb-0.5.5-py3-none-any.whl (584 kB)\n",
            "\u001b[2K   \u001b[90m━━━━━━━━━━━━━━━━━━━━━━━━━━━━━━━━━━━━━━━━\u001b[0m \u001b[32m584.3/584.3 kB\u001b[0m \u001b[31m32.1 MB/s\u001b[0m eta \u001b[36m0:00:00\u001b[0m\n",
            "\u001b[?25hDownloading chroma_hnswlib-0.7.6-cp310-cp310-manylinux_2_17_x86_64.manylinux2014_x86_64.whl (2.4 MB)\n",
            "\u001b[2K   \u001b[90m━━━━━━━━━━━━━━━━━━━━━━━━━━━━━━━━━━━━━━━━\u001b[0m \u001b[32m2.4/2.4 MB\u001b[0m \u001b[31m65.4 MB/s\u001b[0m eta \u001b[36m0:00:00\u001b[0m\n",
            "\u001b[?25hDownloading sentence_transformers-3.1.0-py3-none-any.whl (249 kB)\n",
            "\u001b[2K   \u001b[90m━━━━━━━━━━━━━━━━━━━━━━━━━━━━━━━━━━━━━━━━\u001b[0m \u001b[32m249.1/249.1 kB\u001b[0m \u001b[31m15.7 MB/s\u001b[0m eta \u001b[36m0:00:00\u001b[0m\n",
            "\u001b[?25hDownloading datasets-3.0.0-py3-none-any.whl (474 kB)\n",
            "\u001b[2K   \u001b[90m━━━━━━━━━━━━━━━━━━━━━━━━━━━━━━━━━━━━━━━━\u001b[0m \u001b[32m474.3/474.3 kB\u001b[0m \u001b[31m26.9 MB/s\u001b[0m eta \u001b[36m0:00:00\u001b[0m\n",
            "\u001b[?25hDownloading langchain_experimental-0.0.65-py3-none-any.whl (207 kB)\n",
            "\u001b[2K   \u001b[90m━━━━━━━━━━━━━━━━━━━━━━━━━━━━━━━━━━━━━━━━\u001b[0m \u001b[32m207.2/207.2 kB\u001b[0m \u001b[31m13.0 MB/s\u001b[0m eta \u001b[36m0:00:00\u001b[0m\n",
            "\u001b[?25hDownloading ragas-0.1.18-py3-none-any.whl (185 kB)\n",
            "\u001b[2K   \u001b[90m━━━━━━━━━━━━━━━━━━━━━━━━━━━━━━━━━━━━━━━━\u001b[0m \u001b[32m185.7/185.7 kB\u001b[0m \u001b[31m12.1 MB/s\u001b[0m eta \u001b[36m0:00:00\u001b[0m\n",
            "\u001b[?25hDownloading langchain_huggingface-0.0.3-py3-none-any.whl (17 kB)\n",
            "Downloading rank_bm25-0.2.2-py3-none-any.whl (8.6 kB)\n",
            "Downloading bcrypt-4.2.0-cp39-abi3-manylinux_2_28_x86_64.whl (273 kB)\n",
            "\u001b[2K   \u001b[90m━━━━━━━━━━━━━━━━━━━━━━━━━━━━━━━━━━━━━━━━\u001b[0m \u001b[32m273.8/273.8 kB\u001b[0m \u001b[31m15.1 MB/s\u001b[0m eta \u001b[36m0:00:00\u001b[0m\n",
            "\u001b[?25hDownloading dataclasses_json-0.6.7-py3-none-any.whl (28 kB)\n",
            "Downloading dill-0.3.8-py3-none-any.whl (116 kB)\n",
            "\u001b[2K   \u001b[90m━━━━━━━━━━━━━━━━━━━━━━━━━━━━━━━━━━━━━━━━\u001b[0m \u001b[32m116.3/116.3 kB\u001b[0m \u001b[31m6.9 MB/s\u001b[0m eta \u001b[36m0:00:00\u001b[0m\n",
            "\u001b[?25hDownloading fastapi-0.114.1-py3-none-any.whl (94 kB)\n",
            "\u001b[2K   \u001b[90m━━━━━━━━━━━━━━━━━━━━━━━━━━━━━━━━━━━━━━━━\u001b[0m \u001b[32m94.0/94.0 kB\u001b[0m \u001b[31m6.3 MB/s\u001b[0m eta \u001b[36m0:00:00\u001b[0m\n",
            "\u001b[?25hDownloading httpx-0.27.2-py3-none-any.whl (76 kB)\n",
            "\u001b[2K   \u001b[90m━━━━━━━━━━━━━━━━━━━━━━━━━━━━━━━━━━━━━━━━\u001b[0m \u001b[32m76.4/76.4 kB\u001b[0m \u001b[31m5.1 MB/s\u001b[0m eta \u001b[36m0:00:00\u001b[0m\n",
            "\u001b[?25hDownloading httpcore-1.0.5-py3-none-any.whl (77 kB)\n",
            "\u001b[2K   \u001b[90m━━━━━━━━━━━━━━━━━━━━━━━━━━━━━━━━━━━━━━━━\u001b[0m \u001b[32m77.9/77.9 kB\u001b[0m \u001b[31m4.9 MB/s\u001b[0m eta \u001b[36m0:00:00\u001b[0m\n",
            "\u001b[?25hDownloading kubernetes-30.1.0-py2.py3-none-any.whl (1.7 MB)\n",
            "\u001b[2K   \u001b[90m━━━━━━━━━━━━━━━━━━━━━━━━━━━━━━━━━━━━━━━━\u001b[0m \u001b[32m1.7/1.7 MB\u001b[0m \u001b[31m55.9 MB/s\u001b[0m eta \u001b[36m0:00:00\u001b[0m\n",
            "\u001b[?25hDownloading langchain_core-0.2.39-py3-none-any.whl (396 kB)\n",
            "\u001b[2K   \u001b[90m━━━━━━━━━━━━━━━━━━━━━━━━━━━━━━━━━━━━━━━━\u001b[0m \u001b[32m396.6/396.6 kB\u001b[0m \u001b[31m21.7 MB/s\u001b[0m eta \u001b[36m0:00:00\u001b[0m\n",
            "\u001b[?25hDownloading langchain_text_splitters-0.2.4-py3-none-any.whl (25 kB)\n",
            "Downloading langsmith-0.1.120-py3-none-any.whl (289 kB)\n",
            "\u001b[2K   \u001b[90m━━━━━━━━━━━━━━━━━━━━━━━━━━━━━━━━━━━━━━━━\u001b[0m \u001b[32m289.8/289.8 kB\u001b[0m \u001b[31m18.6 MB/s\u001b[0m eta \u001b[36m0:00:00\u001b[0m\n",
            "\u001b[?25hDownloading mmh3-4.1.0-cp310-cp310-manylinux_2_5_x86_64.manylinux1_x86_64.manylinux_2_17_x86_64.manylinux2014_x86_64.whl (67 kB)\n",
            "\u001b[2K   \u001b[90m━━━━━━━━━━━━━━━━━━━━━━━━━━━━━━━━━━━━━━━━\u001b[0m \u001b[32m67.6/67.6 kB\u001b[0m \u001b[31m4.1 MB/s\u001b[0m eta \u001b[36m0:00:00\u001b[0m\n",
            "\u001b[?25hDownloading onnxruntime-1.19.2-cp310-cp310-manylinux_2_27_x86_64.manylinux_2_28_x86_64.whl (13.2 MB)\n",
            "\u001b[2K   \u001b[90m━━━━━━━━━━━━━━━━━━━━━━━━━━━━━━━━━━━━━━━━\u001b[0m \u001b[32m13.2/13.2 MB\u001b[0m \u001b[31m79.7 MB/s\u001b[0m eta \u001b[36m0:00:00\u001b[0m\n",
            "\u001b[?25hDownloading openai-1.45.0-py3-none-any.whl (374 kB)\n",
            "\u001b[2K   \u001b[90m━━━━━━━━━━━━━━━━━━━━━━━━━━━━━━━━━━━━━━━━\u001b[0m \u001b[32m374.1/374.1 kB\u001b[0m \u001b[31m21.3 MB/s\u001b[0m eta \u001b[36m0:00:00\u001b[0m\n",
            "\u001b[?25hDownloading opentelemetry_api-1.27.0-py3-none-any.whl (63 kB)\n",
            "\u001b[2K   \u001b[90m━━━━━━━━━━━━━━━━━━━━━━━━━━━━━━━━━━━━━━━━\u001b[0m \u001b[32m64.0/64.0 kB\u001b[0m \u001b[31m4.1 MB/s\u001b[0m eta \u001b[36m0:00:00\u001b[0m\n",
            "\u001b[?25hDownloading opentelemetry_exporter_otlp_proto_grpc-1.27.0-py3-none-any.whl (18 kB)\n",
            "Downloading opentelemetry_exporter_otlp_proto_common-1.27.0-py3-none-any.whl (17 kB)\n",
            "Downloading opentelemetry_proto-1.27.0-py3-none-any.whl (52 kB)\n",
            "\u001b[2K   \u001b[90m━━━━━━━━━━━━━━━━━━━━━━━━━━━━━━━━━━━━━━━━\u001b[0m \u001b[32m52.5/52.5 kB\u001b[0m \u001b[31m3.4 MB/s\u001b[0m eta \u001b[36m0:00:00\u001b[0m\n",
            "\u001b[?25hDownloading opentelemetry_instrumentation_fastapi-0.48b0-py3-none-any.whl (11 kB)\n",
            "Downloading opentelemetry_instrumentation-0.48b0-py3-none-any.whl (29 kB)\n",
            "Downloading opentelemetry_instrumentation_asgi-0.48b0-py3-none-any.whl (15 kB)\n",
            "Downloading opentelemetry_semantic_conventions-0.48b0-py3-none-any.whl (149 kB)\n",
            "\u001b[2K   \u001b[90m━━━━━━━━━━━━━━━━━━━━━━━━━━━━━━━━━━━━━━━━\u001b[0m \u001b[32m149.7/149.7 kB\u001b[0m \u001b[31m8.5 MB/s\u001b[0m eta \u001b[36m0:00:00\u001b[0m\n",
            "\u001b[?25hDownloading opentelemetry_util_http-0.48b0-py3-none-any.whl (6.9 kB)\n",
            "Downloading opentelemetry_sdk-1.27.0-py3-none-any.whl (110 kB)\n",
            "\u001b[2K   \u001b[90m━━━━━━━━━━━━━━━━━━━━━━━━━━━━━━━━━━━━━━━━\u001b[0m \u001b[32m110.5/110.5 kB\u001b[0m \u001b[31m6.3 MB/s\u001b[0m eta \u001b[36m0:00:00\u001b[0m\n",
            "\u001b[?25hDownloading orjson-3.10.7-cp310-cp310-manylinux_2_17_x86_64.manylinux2014_x86_64.whl (141 kB)\n",
            "\u001b[2K   \u001b[90m━━━━━━━━━━━━━━━━━━━━━━━━━━━━━━━━━━━━━━━━\u001b[0m \u001b[32m141.9/141.9 kB\u001b[0m \u001b[31m9.0 MB/s\u001b[0m eta \u001b[36m0:00:00\u001b[0m\n",
            "\u001b[?25hDownloading overrides-7.7.0-py3-none-any.whl (17 kB)\n",
            "Downloading posthog-3.6.5-py2.py3-none-any.whl (54 kB)\n",
            "\u001b[2K   \u001b[90m━━━━━━━━━━━━━━━━━━━━━━━━━━━━━━━━━━━━━━━━\u001b[0m \u001b[32m54.2/54.2 kB\u001b[0m \u001b[31m3.4 MB/s\u001b[0m eta \u001b[36m0:00:00\u001b[0m\n",
            "\u001b[?25hDownloading pyarrow-17.0.0-cp310-cp310-manylinux_2_28_x86_64.whl (39.9 MB)\n",
            "\u001b[2K   \u001b[90m━━━━━━━━━━━━━━━━━━━━━━━━━━━━━━━━━━━━━━━━\u001b[0m \u001b[32m39.9/39.9 MB\u001b[0m \u001b[31m46.8 MB/s\u001b[0m eta \u001b[36m0:00:00\u001b[0m\n",
            "\u001b[?25hDownloading pysbd-0.3.4-py3-none-any.whl (71 kB)\n",
            "\u001b[2K   \u001b[90m━━━━━━━━━━━━━━━━━━━━━━━━━━━━━━━━━━━━━━━━\u001b[0m \u001b[32m71.1/71.1 kB\u001b[0m \u001b[31m4.6 MB/s\u001b[0m eta \u001b[36m0:00:00\u001b[0m\n",
            "\u001b[?25hDownloading tenacity-8.5.0-py3-none-any.whl (28 kB)\n",
            "Downloading uvicorn-0.30.6-py3-none-any.whl (62 kB)\n",
            "\u001b[2K   \u001b[90m━━━━━━━━━━━━━━━━━━━━━━━━━━━━━━━━━━━━━━━━\u001b[0m \u001b[32m62.8/62.8 kB\u001b[0m \u001b[31m4.2 MB/s\u001b[0m eta \u001b[36m0:00:00\u001b[0m\n",
            "\u001b[?25hDownloading appdirs-1.4.4-py2.py3-none-any.whl (9.6 kB)\n",
            "Downloading langchain_openai-0.1.24-py3-none-any.whl (51 kB)\n",
            "\u001b[2K   \u001b[90m━━━━━━━━━━━━━━━━━━━━━━━━━━━━━━━━━━━━━━━━\u001b[0m \u001b[32m51.6/51.6 kB\u001b[0m \u001b[31m3.4 MB/s\u001b[0m eta \u001b[36m0:00:00\u001b[0m\n",
            "\u001b[?25hDownloading tiktoken-0.7.0-cp310-cp310-manylinux_2_17_x86_64.manylinux2014_x86_64.whl (1.1 MB)\n",
            "\u001b[2K   \u001b[90m━━━━━━━━━━━━━━━━━━━━━━━━━━━━━━━━━━━━━━━━\u001b[0m \u001b[32m1.1/1.1 MB\u001b[0m \u001b[31m47.3 MB/s\u001b[0m eta \u001b[36m0:00:00\u001b[0m\n",
            "\u001b[?25hDownloading multiprocess-0.70.16-py310-none-any.whl (134 kB)\n",
            "\u001b[2K   \u001b[90m━━━━━━━━━━━━━━━━━━━━━━━━━━━━━━━━━━━━━━━━\u001b[0m \u001b[32m134.8/134.8 kB\u001b[0m \u001b[31m9.8 MB/s\u001b[0m eta \u001b[36m0:00:00\u001b[0m\n",
            "\u001b[?25hDownloading xxhash-3.5.0-cp310-cp310-manylinux_2_17_x86_64.manylinux2014_x86_64.whl (194 kB)\n",
            "\u001b[2K   \u001b[90m━━━━━━━━━━━━━━━━━━━━━━━━━━━━━━━━━━━━━━━━\u001b[0m \u001b[32m194.1/194.1 kB\u001b[0m \u001b[31m12.9 MB/s\u001b[0m eta \u001b[36m0:00:00\u001b[0m\n",
            "\u001b[?25hDownloading backoff-2.2.1-py3-none-any.whl (15 kB)\n",
            "Downloading Deprecated-1.2.14-py2.py3-none-any.whl (9.6 kB)\n",
            "Downloading h11-0.14.0-py3-none-any.whl (58 kB)\n",
            "\u001b[2K   \u001b[90m━━━━━━━━━━━━━━━━━━━━━━━━━━━━━━━━━━━━━━━━\u001b[0m \u001b[32m58.3/58.3 kB\u001b[0m \u001b[31m4.0 MB/s\u001b[0m eta \u001b[36m0:00:00\u001b[0m\n",
            "\u001b[?25hDownloading httptools-0.6.1-cp310-cp310-manylinux_2_5_x86_64.manylinux1_x86_64.manylinux_2_17_x86_64.manylinux2014_x86_64.whl (341 kB)\n",
            "\u001b[2K   \u001b[90m━━━━━━━━━━━━━━━━━━━━━━━━━━━━━━━━━━━━━━━━\u001b[0m \u001b[32m341.4/341.4 kB\u001b[0m \u001b[31m21.2 MB/s\u001b[0m eta \u001b[36m0:00:00\u001b[0m\n",
            "\u001b[?25hDownloading jiter-0.5.0-cp310-cp310-manylinux_2_17_x86_64.manylinux2014_x86_64.whl (318 kB)\n",
            "\u001b[2K   \u001b[90m━━━━━━━━━━━━━━━━━━━━━━━━━━━━━━━━━━━━━━━━\u001b[0m \u001b[32m318.9/318.9 kB\u001b[0m \u001b[31m19.9 MB/s\u001b[0m eta \u001b[36m0:00:00\u001b[0m\n",
            "\u001b[?25hDownloading jsonpatch-1.33-py2.py3-none-any.whl (12 kB)\n",
            "Downloading marshmallow-3.22.0-py3-none-any.whl (49 kB)\n",
            "\u001b[2K   \u001b[90m━━━━━━━━━━━━━━━━━━━━━━━━━━━━━━━━━━━━━━━━\u001b[0m \u001b[32m49.3/49.3 kB\u001b[0m \u001b[31m2.9 MB/s\u001b[0m eta \u001b[36m0:00:00\u001b[0m\n",
            "\u001b[?25hDownloading monotonic-1.6-py2.py3-none-any.whl (8.2 kB)\n",
            "Downloading python_dotenv-1.0.1-py3-none-any.whl (19 kB)\n",
            "Downloading starlette-0.38.5-py3-none-any.whl (71 kB)\n",
            "\u001b[2K   \u001b[90m━━━━━━━━━━━━━━━━━━━━━━━━━━━━━━━━━━━━━━━━\u001b[0m \u001b[32m71.4/71.4 kB\u001b[0m \u001b[31m4.1 MB/s\u001b[0m eta \u001b[36m0:00:00\u001b[0m\n",
            "\u001b[?25hDownloading typing_inspect-0.9.0-py3-none-any.whl (8.8 kB)\n",
            "Downloading uvloop-0.20.0-cp310-cp310-manylinux_2_17_x86_64.manylinux2014_x86_64.whl (3.4 MB)\n",
            "\u001b[2K   \u001b[90m━━━━━━━━━━━━━━━━━━━━━━━━━━━━━━━━━━━━━━━━\u001b[0m \u001b[32m3.4/3.4 MB\u001b[0m \u001b[31m79.1 MB/s\u001b[0m eta \u001b[36m0:00:00\u001b[0m\n",
            "\u001b[?25hDownloading watchfiles-0.24.0-cp310-cp310-manylinux_2_17_x86_64.manylinux2014_x86_64.whl (425 kB)\n",
            "\u001b[2K   \u001b[90m━━━━━━━━━━━━━━━━━━━━━━━━━━━━━━━━━━━━━━━━\u001b[0m \u001b[32m425.7/425.7 kB\u001b[0m \u001b[31m22.7 MB/s\u001b[0m eta \u001b[36m0:00:00\u001b[0m\n",
            "\u001b[?25hDownloading websockets-13.0.1-cp310-cp310-manylinux_2_5_x86_64.manylinux1_x86_64.manylinux_2_17_x86_64.manylinux2014_x86_64.whl (157 kB)\n",
            "\u001b[2K   \u001b[90m━━━━━━━━━━━━━━━━━━━━━━━━━━━━━━━━━━━━━━━━\u001b[0m \u001b[32m157.3/157.3 kB\u001b[0m \u001b[31m10.0 MB/s\u001b[0m eta \u001b[36m0:00:00\u001b[0m\n",
            "\u001b[?25hDownloading coloredlogs-15.0.1-py2.py3-none-any.whl (46 kB)\n",
            "\u001b[2K   \u001b[90m━━━━━━━━━━━━━━━━━━━━━━━━━━━━━━━━━━━━━━━━\u001b[0m \u001b[32m46.0/46.0 kB\u001b[0m \u001b[31m2.9 MB/s\u001b[0m eta \u001b[36m0:00:00\u001b[0m\n",
            "\u001b[?25hDownloading asgiref-3.8.1-py3-none-any.whl (23 kB)\n",
            "Downloading humanfriendly-10.0-py2.py3-none-any.whl (86 kB)\n",
            "\u001b[2K   \u001b[90m━━━━━━━━━━━━━━━━━━━━━━━━━━━━━━━━━━━━━━━━\u001b[0m \u001b[32m86.8/86.8 kB\u001b[0m \u001b[31m5.2 MB/s\u001b[0m eta \u001b[36m0:00:00\u001b[0m\n",
            "\u001b[?25hDownloading jsonpointer-3.0.0-py2.py3-none-any.whl (7.6 kB)\n",
            "Downloading mypy_extensions-1.0.0-py3-none-any.whl (4.7 kB)\n",
            "Building wheels for collected packages: pypika\n",
            "  Building wheel for pypika (pyproject.toml) ... \u001b[?25l\u001b[?25hdone\n",
            "  Created wheel for pypika: filename=PyPika-0.48.9-py2.py3-none-any.whl size=53726 sha256=f3a6e685ea9be0169bf8049541015e1ff32f6194da525cb914fe89571648ee3d\n",
            "  Stored in directory: /root/.cache/pip/wheels/e1/26/51/d0bffb3d2fd82256676d7ad3003faea3bd6dddc9577af665f4\n",
            "Successfully built pypika\n",
            "Installing collected packages: pypika, monotonic, mmh3, appdirs, xxhash, websockets, uvloop, tenacity, rank_bm25, python-dotenv, pysbd, pyarrow, overrides, orjson, opentelemetry-util-http, opentelemetry-proto, mypy-extensions, marshmallow, jsonpointer, jiter, humanfriendly, httptools, h11, dill, deprecated, chroma-hnswlib, bcrypt, backoff, asgiref, watchfiles, uvicorn, typing-inspect, tiktoken, starlette, posthog, opentelemetry-exporter-otlp-proto-common, opentelemetry-api, multiprocess, jsonpatch, httpcore, coloredlogs, opentelemetry-semantic-conventions, opentelemetry-instrumentation, onnxruntime, kubernetes, httpx, fastapi, dataclasses-json, opentelemetry-sdk, opentelemetry-instrumentation-asgi, openai, langsmith, sentence-transformers, opentelemetry-instrumentation-fastapi, opentelemetry-exporter-otlp-proto-grpc, langchain-core, datasets, langchain-text-splitters, langchain-openai, langchain_huggingface, chromadb, langchain, langchain-community, ragas, langchain_experimental\n",
            "  Attempting uninstall: tenacity\n",
            "    Found existing installation: tenacity 9.0.0\n",
            "    Uninstalling tenacity-9.0.0:\n",
            "      Successfully uninstalled tenacity-9.0.0\n",
            "  Attempting uninstall: pyarrow\n",
            "    Found existing installation: pyarrow 14.0.2\n",
            "    Uninstalling pyarrow-14.0.2:\n",
            "      Successfully uninstalled pyarrow-14.0.2\n",
            "\u001b[31mERROR: pip's dependency resolver does not currently take into account all the packages that are installed. This behaviour is the source of the following dependency conflicts.\n",
            "cudf-cu12 24.4.1 requires pyarrow<15.0.0a0,>=14.0.1, but you have pyarrow 17.0.0 which is incompatible.\n",
            "ibis-framework 8.0.0 requires pyarrow<16,>=2, but you have pyarrow 17.0.0 which is incompatible.\u001b[0m\u001b[31m\n",
            "\u001b[0mSuccessfully installed appdirs-1.4.4 asgiref-3.8.1 backoff-2.2.1 bcrypt-4.2.0 chroma-hnswlib-0.7.6 chromadb-0.5.5 coloredlogs-15.0.1 dataclasses-json-0.6.7 datasets-3.0.0 deprecated-1.2.14 dill-0.3.8 fastapi-0.114.1 h11-0.14.0 httpcore-1.0.5 httptools-0.6.1 httpx-0.27.2 humanfriendly-10.0 jiter-0.5.0 jsonpatch-1.33 jsonpointer-3.0.0 kubernetes-30.1.0 langchain-0.2.16 langchain-community-0.2.16 langchain-core-0.2.39 langchain-openai-0.1.24 langchain-text-splitters-0.2.4 langchain_experimental-0.0.65 langchain_huggingface-0.0.3 langsmith-0.1.120 marshmallow-3.22.0 mmh3-4.1.0 monotonic-1.6 multiprocess-0.70.16 mypy-extensions-1.0.0 onnxruntime-1.19.2 openai-1.45.0 opentelemetry-api-1.27.0 opentelemetry-exporter-otlp-proto-common-1.27.0 opentelemetry-exporter-otlp-proto-grpc-1.27.0 opentelemetry-instrumentation-0.48b0 opentelemetry-instrumentation-asgi-0.48b0 opentelemetry-instrumentation-fastapi-0.48b0 opentelemetry-proto-1.27.0 opentelemetry-sdk-1.27.0 opentelemetry-semantic-conventions-0.48b0 opentelemetry-util-http-0.48b0 orjson-3.10.7 overrides-7.7.0 posthog-3.6.5 pyarrow-17.0.0 pypika-0.48.9 pysbd-0.3.4 python-dotenv-1.0.1 ragas-0.1.18 rank_bm25-0.2.2 sentence-transformers-3.1.0 starlette-0.38.5 tenacity-8.5.0 tiktoken-0.7.0 typing-inspect-0.9.0 uvicorn-0.30.6 uvloop-0.20.0 watchfiles-0.24.0 websockets-13.0.1 xxhash-3.5.0\n"
          ]
        }
      ]
    },
    {
      "cell_type": "code",
      "execution_count": null,
      "metadata": {
        "id": "PAOFHQD6jBxR"
      },
      "outputs": [],
      "source": [
        "import nest_asyncio\n",
        "\n",
        "nest_asyncio.apply()\n",
        "\n",
        "from getpass import getpass\n",
        "import os\n",
        "import torch\n",
        "from tqdm import tqdm\n",
        "import pandas as pd\n",
        "import numpy as np\n",
        "import torch\n",
        "import torch.nn.functional as F\n",
        "import time\n",
        "import logging\n",
        "from datasets import Dataset\n",
        "import chromadb\n",
        "from chromadb.config import Settings\n",
        "import asyncio\n",
        "import operator\n",
        "\n",
        "\n",
        "from langchain import FewShotPromptTemplate\n",
        "from langchain_core.documents import Document\n",
        "from langchain.retrievers import ContextualCompressionRetriever, EnsembleRetriever\n",
        "from langchain_community.retrievers import BM25Retriever\n",
        "from langchain.chains import LLMChain\n",
        "from langchain_core.messages import HumanMessage, SystemMessage\n",
        "from langchain_openai import ChatOpenAI, OpenAIEmbeddings\n",
        "from langchain.document_loaders import DirectoryLoader\n",
        "from langchain.embeddings.openai import OpenAIEmbeddings\n",
        "from langchain.text_splitter import RecursiveCharacterTextSplitter\n",
        "from langchain.vectorstores import Chroma\n",
        "from langchain.retrievers import ParentDocumentRetriever\n",
        "from langchain.storage import InMemoryStore\n",
        "from langchain.document_loaders import WebBaseLoader\n",
        "from langchain.prompts import PromptTemplate\n",
        "from langchain.chat_models import ChatOpenAI\n",
        "from langchain_huggingface import HuggingFaceEmbeddings\n",
        "from langchain.text_splitter import (\n",
        "    CharacterTextSplitter,\n",
        "    RecursiveCharacterTextSplitter,\n",
        "    SentenceTransformersTokenTextSplitter,\n",
        "    TextSplitter,\n",
        "    TokenTextSplitter,\n",
        ")\n",
        "from langchain_community.document_loaders import TextLoader\n",
        "from langchain_community.vectorstores import Chroma\n",
        "from langchain.embeddings import HuggingFaceEmbeddings\n",
        "from langchain.retrievers.multi_query import MultiQueryRetriever\n",
        "from langchain_core.callbacks import (\n",
        "    AsyncCallbackManagerForRetrieverRun,\n",
        "    CallbackManagerForRetrieverRun,\n",
        ")\n",
        "from langchain_community.document_transformers import (\n",
        "    LongContextReorder\n",
        ")\n",
        "from transformers import AutoTokenizer, AutoModel, AutoModelForSequenceClassification\n",
        "from sentence_transformers import SentenceTransformer, CrossEncoder, util, models\n",
        "\n",
        "from ragas import evaluate\n",
        "from ragas.metrics import (\n",
        "    answer_relevancy,\n",
        "    faithfulness,\n",
        "    context_recall,\n",
        "    context_precision,\n",
        "    answer_correctness\n",
        ")\n",
        "\n",
        "from warnings import filterwarnings\n",
        "\n",
        "filterwarnings('ignore')"
      ]
    },
    {
      "cell_type": "code",
      "source": [
        "from google.colab import drive\n",
        "drive.mount('/content/drive')"
      ],
      "metadata": {
        "colab": {
          "base_uri": "https://localhost:8080/"
        },
        "id": "ojszlclObwkN",
        "outputId": "f851b101-d43b-478b-b4be-d3873d0c49a8"
      },
      "execution_count": null,
      "outputs": [
        {
          "output_type": "stream",
          "name": "stdout",
          "text": [
            "Drive already mounted at /content/drive; to attempt to forcibly remount, call drive.mount(\"/content/drive\", force_remount=True).\n"
          ]
        }
      ]
    },
    {
      "cell_type": "code",
      "source": [
        "%cd /content/drive/MyDrive/COurses_WOrk/AI_Hack\n",
        "!ls"
      ],
      "metadata": {
        "collapsed": true,
        "colab": {
          "base_uri": "https://localhost:8080/"
        },
        "id": "bNtoYYQTdxiJ",
        "outputId": "c110e4c8-c704-43e8-8a9e-2e4355808ab3"
      },
      "execution_count": null,
      "outputs": [
        {
          "output_type": "stream",
          "name": "stdout",
          "text": [
            "/content/drive/MyDrive/COurses_WOrk/AI_Hack\n",
            " answers.csv\t\t      'notebookccf68588d3 (1).ipynb'\n",
            " answers.gsheet\t\t       production_rag_example.ipynb\n",
            " checkpoints\t\t       production_rag_validation.ipynb\n",
            " docs_from_path\t\t       rag-eval.ipynb\n",
            " fine_tune_big_dataset\t       results\n",
            " fine-tuned-model\t       results_Self_Validation_Pipeline.csv\n",
            " fine-tuned-model-v2\t       results-v2\n",
            " fine-tuned-reranker-v1        testRag.ipynb\n",
            "'finetune_embedding.ipynb\"'    total_rag\n",
            " finetune_embedding_v2.ipynb   v2_fine_tune\n",
            " fine_tune_train_data\t       v2_ragas_npa_dataset_firstPart.xlsx\n",
            " hmao_npa_cleaned_v1.txt      'Копия блокнота \"finetune_embedding.ipynb\"'\n"
          ]
        }
      ]
    },
    {
      "cell_type": "code",
      "source": [
        "device = torch.device('cuda' if torch.cuda.is_available() else 'cpu')\n",
        "print(f'Device - {device}')"
      ],
      "metadata": {
        "colab": {
          "base_uri": "https://localhost:8080/"
        },
        "id": "7vF7GQUNb0aR",
        "outputId": "0bd080cc-f919-4336-ce31-52065a9c72b1"
      },
      "execution_count": null,
      "outputs": [
        {
          "output_type": "stream",
          "name": "stdout",
          "text": [
            "Device - cpu\n"
          ]
        }
      ]
    },
    {
      "cell_type": "code",
      "source": [
        "os.environ['OPENAI_API_KEY'] = getpass(prompt='Введите ваш OpenAI API ключ')"
      ],
      "metadata": {
        "colab": {
          "base_uri": "https://localhost:8080/"
        },
        "id": "I2FuB1GNcoKc",
        "outputId": "5c964826-a993-4ea0-c218-4f1c19b36ebb"
      },
      "execution_count": null,
      "outputs": [
        {
          "name": "stdout",
          "output_type": "stream",
          "text": [
            "Введите ваш OpenAI API ключ··········\n"
          ]
        }
      ]
    },
    {
      "cell_type": "code",
      "source": [
        "os.environ[\"OPENAI_API_KEY\"] = \"sk-or-vv-678cbad362790622377958c8beb4937642cfb7083ee6cfce2d62886dc4b86326\"\n",
        "os.environ[\"OPENAI_API_BASE\"] = \"https://api.vsegpt.ru/v1\""
      ],
      "metadata": {
        "id": "3JjzIFmEDHAu"
      },
      "execution_count": null,
      "outputs": []
    },
    {
      "cell_type": "markdown",
      "source": [
        "# Params for validation\n",
        "\n",
        "**Model name:**\n",
        "\n",
        "*   model_name_v1 = 'ianssens/e5-model-rag'\n",
        "*   model_name_v2 = 'ianssens/e5-model-rag-v2'\n",
        "\n",
        "**Cross-encoder:**\n",
        "- 'amberoad/bert-multilingual-passage-reranking-msmarco'\n",
        "- 'ianssens/bmprm-ranker-v1'\n",
        "\n",
        "**Embeddings/Chunks:**\n",
        "\n",
        "* collection_name_v1 = 'modelv1_750_100_base'\n",
        "* collection_name_v2 = 'modelv2_512_20_base'"
      ],
      "metadata": {
        "id": "qCR02X8kvGfn"
      }
    },
    {
      "cell_type": "code",
      "source": [
        "params = {\n",
        " 'model_name' : \"ianssens/e5-model-rag\",\n",
        " 'cross_encoder_name' : 'amberoad/bert-multilingual-passage-reranking-msmarco',\n",
        " 'collection_name' : \"modelv1_750_100_base\",\n",
        " 'llm' : \"gpt-4o-mini\",\n",
        " 'top_k_search' : 30,\n",
        " 'search_type' : \"similarity\",\n",
        " 'weights' : [0.4, 0.6],\n",
        "}"
      ],
      "metadata": {
        "id": "zQEZb5rcuMTm"
      },
      "execution_count": null,
      "outputs": []
    },
    {
      "cell_type": "markdown",
      "source": [
        " Менять в коде\n",
        "\n",
        " * 'threshold' в reranker : 0.8\n",
        "\n",
        " * 'top k' в llm : 15"
      ],
      "metadata": {
        "id": "dfSdsnZk9wBX"
      }
    },
    {
      "cell_type": "markdown",
      "source": [
        "### Choose emb_model, emb, llms\n"
      ],
      "metadata": {
        "id": "dpjik4h1b4b-"
      }
    },
    {
      "cell_type": "code",
      "execution_count": null,
      "metadata": {
        "id": "faJbqIpH9_nB"
      },
      "outputs": [],
      "source": [
        "collection_name = params['collection_name']\n",
        "model_name = params['model_name']"
      ]
    },
    {
      "cell_type": "code",
      "source": [
        "llm = ChatOpenAI(\n",
        "    model_name=params['llm'],\n",
        "    temperature=0,\n",
        "    )"
      ],
      "metadata": {
        "id": "gqA8y9o7p-Lg",
        "collapsed": true
      },
      "execution_count": null,
      "outputs": []
    },
    {
      "cell_type": "code",
      "source": [
        "llm = ChatOpenAI(\n",
        "    model_name=params['llm'],\n",
        "    temperature=0,\n",
        "    openai_api_key=\"sk-or-vv-678cbad362790622377958c8beb4937642cfb7083ee6cfce2d62886dc4b86326\",\n",
        "    base_url=\"https://api.vsegpt.ru/v1\"\n",
        "    )"
      ],
      "metadata": {
        "id": "7RXTi7n04Ehf"
      },
      "execution_count": null,
      "outputs": []
    },
    {
      "cell_type": "code",
      "source": [
        "embedding_model = HuggingFaceEmbeddings(\n",
        "    model_name=model_name,\n",
        "    model_kwargs={'device': device}\n",
        ")"
      ],
      "metadata": {
        "colab": {
          "base_uri": "https://localhost:8080/"
        },
        "collapsed": true,
        "id": "N0UHnCbeANTr",
        "outputId": "64c51edc-b3c4-4d7d-89a3-c8001c6daf8e"
      },
      "execution_count": null,
      "outputs": [
        {
          "output_type": "stream",
          "name": "stderr",
          "text": [
            "WARNING:sentence_transformers.SentenceTransformer:No sentence-transformers model found with name ianssens/e5-model-rag. Creating a new one with mean pooling.\n"
          ]
        }
      ]
    },
    {
      "cell_type": "code",
      "source": [
        "cross_tokenizer = AutoTokenizer.from_pretrained(params['cross_encoder_name'])\n",
        "cross_model = AutoModelForSequenceClassification.from_pretrained(params['cross_encoder_name'])"
      ],
      "metadata": {
        "id": "qbbS6nUuXnIJ"
      },
      "execution_count": null,
      "outputs": []
    },
    {
      "cell_type": "markdown",
      "source": [
        "### Croma DB connect -> retriver"
      ],
      "metadata": {
        "id": "P5XyeP23cXPg"
      }
    },
    {
      "cell_type": "code",
      "execution_count": null,
      "metadata": {
        "id": "dLyYsYvEPRNS",
        "collapsed": true
      },
      "outputs": [],
      "source": [
        "client = chromadb.HttpClient(\n",
        "        host='62.68.146.97',\n",
        "        port=8000,\n",
        "        ssl=False,\n",
        "        headers=None,\n",
        "        settings=Settings(),\n",
        "        tenant=chromadb.DEFAULT_TENANT,\n",
        "        database=chromadb.DEFAULT_DATABASE,\n",
        "    )\n",
        "\n",
        "db = Chroma(\n",
        "    client=client,\n",
        "    collection_name=collection_name,\n",
        "    embedding_function=embedding_model\n",
        ")"
      ]
    },
    {
      "cell_type": "code",
      "source": [
        "chroma_retriever = db.as_retriever(\n",
        "    search_type=params['search_type'],\n",
        "    search_kwargs={\"k\": params['top_k_search']},\n",
        ")"
      ],
      "metadata": {
        "id": "hcD_GS8Wos3l"
      },
      "execution_count": null,
      "outputs": []
    },
    {
      "cell_type": "markdown",
      "source": [
        "### Example in code"
      ],
      "metadata": {
        "id": "Z578MUkiZJdk"
      }
    },
    {
      "cell_type": "code",
      "source": [
        "query = \"Как осуществляется представление информации в ходе проверки юридического лица или индивидуального предпринимателя?\""
      ],
      "metadata": {
        "id": "wUt2wtprASDt"
      },
      "execution_count": null,
      "outputs": []
    },
    {
      "cell_type": "code",
      "source": [
        "relevant_docs_from_retriver = chroma_retriever.get_relevant_documents(query)\n",
        "len(relevant_docs_from_retriver)"
      ],
      "metadata": {
        "colab": {
          "base_uri": "https://localhost:8080/"
        },
        "id": "6YXxPow6_ylF",
        "outputId": "dbc3b40d-7411-4cf3-cac0-a3973c33471e"
      },
      "execution_count": null,
      "outputs": [
        {
          "output_type": "execute_result",
          "data": {
            "text/plain": [
              "10"
            ]
          },
          "metadata": {},
          "execution_count": 424
        }
      ]
    },
    {
      "cell_type": "markdown",
      "source": [
        "## EnsembleRetriever (BM25)"
      ],
      "metadata": {
        "id": "uExSOSkSMWQl"
      }
    },
    {
      "cell_type": "code",
      "source": [
        "collection = client.get_collection(name=collection_name)\n",
        "documents = collection.get()\n"
      ],
      "metadata": {
        "id": "osAv9crcWEkE"
      },
      "execution_count": null,
      "outputs": []
    },
    {
      "cell_type": "code",
      "source": [
        "bm25_retriever = BM25Retriever.from_texts(\n",
        "            texts=documents.get(\"documents\"),\n",
        "            metadatas=documents.get(\"metadatas\"),\n",
        "        )\n",
        "bm25_retriever.k = params['top_k_search']\n",
        "\n",
        "ensemble_retriever = EnsembleRetriever(\n",
        "    retrievers=[bm25_retriever, chroma_retriever], weights=params['weights']\n",
        ")"
      ],
      "metadata": {
        "id": "T9MoBiZ1MY4c"
      },
      "execution_count": null,
      "outputs": []
    },
    {
      "cell_type": "markdown",
      "source": [
        "# RAG Pipline"
      ],
      "metadata": {
        "id": "RUn8cS8W7onG"
      }
    },
    {
      "cell_type": "markdown",
      "source": [
        "## Self-querying"
      ],
      "metadata": {
        "id": "uiSqSTazANCm"
      }
    },
    {
      "cell_type": "code",
      "source": [
        "def Self_Querying(query, llm):\n",
        "\n",
        "  QUERY_REDACTING_PROMPT = f\"\"\"\n",
        "      Ты – русскоязычный полезный ассистент.\n",
        "      Ты помогаешь технической поддержке с поступающими вопросами.\n",
        "      Пользователи не всегда пишут полные вопросы, ты помогаешь\n",
        "      перефразировать поступающий вопрос и выделяешь основную проблему,\n",
        "      если это требуется. Ты всегда исправишь опечатки и ошибки.\n",
        "      Постарайся максимально передать изначальный смысл и посыл вопроса.\n",
        "      Вот вопрос пользователя: {query}\n",
        "      Перефразированный и исправь вопрос:\n",
        "      \"\"\"\n",
        "\n",
        "\n",
        "  return llm.invoke(QUERY_REDACTING_PROMPT).content"
      ],
      "metadata": {
        "id": "aL_xDQL6ARrS"
      },
      "execution_count": null,
      "outputs": []
    },
    {
      "cell_type": "markdown",
      "source": [
        "### Example in code"
      ],
      "metadata": {
        "id": "Ry2gzJb6ZQv9"
      }
    },
    {
      "cell_type": "code",
      "source": [
        "res = Self_Querying(query, llm)\n",
        "res"
      ],
      "metadata": {
        "colab": {
          "base_uri": "https://localhost:8080/",
          "height": 36
        },
        "id": "kHl5TjZiFSn-",
        "outputId": "71676318-abc9-4c8f-e5e2-493d594afbe8"
      },
      "execution_count": null,
      "outputs": [
        {
          "output_type": "execute_result",
          "data": {
            "text/plain": [
              "'Как происходит представление информации при проверке юридического лица или индивидуального предпринимателя?'"
            ],
            "application/vnd.google.colaboratory.intrinsic+json": {
              "type": "string"
            }
          },
          "metadata": {},
          "execution_count": 471
        }
      ]
    },
    {
      "cell_type": "markdown",
      "source": [
        "## async MultiQueryRetriever"
      ],
      "metadata": {
        "id": "S_83T74uppXE"
      }
    },
    {
      "cell_type": "code",
      "source": [
        "async def Multi_Query_Retriever(query, llm, retriever):\n",
        "\n",
        "  QUERY_EXPANSION_PROMPT = PromptTemplate(\n",
        "      input_variables=[\"question\"],\n",
        "      template=\n",
        "      \"\"\"\n",
        "      Ты – русскоязычный полезный ассистент.Твоя задача — сгенерировать три\n",
        "      различных версий заданного пользовательского вопроса для извлечения\n",
        "      соответствующих документов из векторной базы данных.\n",
        "      Создавая несколько точек зрения на вопрос пользователя, ваша цель — помочь\n",
        "      пользователю преодолеть некоторые ограничения поиска по сходству на основе расстояния.\n",
        "      Предоставьте эти альтернативные вопросы, разделенные символами новой строки.\n",
        "      Предоставьте только запрос, без нумерации.\n",
        "      Исходный вопрос: {question}\n",
        "      \"\"\",\n",
        "  )\n",
        "  retriever_from_llm = MultiQueryRetriever.from_llm(\n",
        "      retriever=retriever,\n",
        "      llm=llm,\n",
        "      prompt=QUERY_EXPANSION_PROMPT,\n",
        "      include_original=True\n",
        "  )\n",
        "\n",
        "  run_manager = AsyncCallbackManagerForRetrieverRun(\n",
        "      run_id=\"first_id\",\n",
        "      handlers=[],\n",
        "      inheritable_handlers=[]\n",
        "  )\n",
        "\n",
        "  unique_docs = await retriever_from_llm._aget_relevant_documents(\n",
        "      query=query,\n",
        "      run_manager=run_manager)\n",
        "\n",
        "  return unique_docs"
      ],
      "metadata": {
        "id": "NHDew-bWrE04"
      },
      "execution_count": null,
      "outputs": []
    },
    {
      "cell_type": "markdown",
      "source": [
        "### Example in code"
      ],
      "metadata": {
        "id": "iStN9rArZSWt"
      }
    },
    {
      "cell_type": "code",
      "source": [
        "relevant_docs_from_retriver = await Multi_Query_Retriever(res, llm,  ensemble_retriever)\n",
        "len(relevant_docs_from_retriver)"
      ],
      "metadata": {
        "colab": {
          "base_uri": "https://localhost:8080/"
        },
        "id": "JspfVENv2pmD",
        "outputId": "82e85faa-ce10-40ea-83a5-48f2df820cb9"
      },
      "execution_count": null,
      "outputs": [
        {
          "output_type": "execute_result",
          "data": {
            "text/plain": [
              "78"
            ]
          },
          "metadata": {},
          "execution_count": 472
        }
      ]
    },
    {
      "cell_type": "markdown",
      "source": [
        "## Cross encoder"
      ],
      "metadata": {
        "id": "4RP6dI6yowLs"
      }
    },
    {
      "cell_type": "code",
      "source": [
        "def reranker(docs):\n",
        "  pairs = []\n",
        "  for doc in docs:\n",
        "      tokenized_input = cross_tokenizer(query, doc.page_content, truncation=True, max_length=512, return_tensors=\"pt\")\n",
        "      pairs.append(tokenized_input)\n",
        "  print(len(pairs))\n",
        "  scores = []\n",
        "  for pair in pairs:\n",
        "      outputs = cross_model(**pair)\n",
        "      logits = outputs.logits\n",
        "      probabilities = F.softmax(logits, dim=-1)\n",
        "      prob_for_related = probabilities[0, 1]\n",
        "      scores.append(prob_for_related.item())\n",
        "  print(len(scores))\n",
        "\n",
        "  scored_docs = zip(scores, docs)\n",
        "  filtered_docs = [(score, doc) for score, doc in scored_docs if score >= 0.85] #  Тоже не знаю как вытащить правильно\n",
        "  if filtered_docs == []:\n",
        "      filtered_docs = [(score, doc) for score, doc in scored_docs]\n",
        "  sorted_docs = sorted(filtered_docs, key=lambda x: x[0], reverse=True)\n",
        "\n",
        "  return sorted_docs"
      ],
      "metadata": {
        "id": "TOOVU403o0qc"
      },
      "execution_count": null,
      "outputs": []
    },
    {
      "cell_type": "markdown",
      "source": [
        "### Example in code"
      ],
      "metadata": {
        "id": "XmUPXvR6ZXvW"
      }
    },
    {
      "cell_type": "code",
      "source": [
        "sorted_docs = reranker(relevant_docs_from_retriver)\n",
        "len(sorted_docs)"
      ],
      "metadata": {
        "colab": {
          "base_uri": "https://localhost:8080/",
          "height": 165
        },
        "id": "Z7zj6DXKu2Uj",
        "outputId": "6f2d816e-88b0-48ad-b9fa-b1d62fe226dc",
        "collapsed": true
      },
      "execution_count": null,
      "outputs": [
        {
          "output_type": "error",
          "ename": "NameError",
          "evalue": "name 'relevant_docs_from_retriver' is not defined",
          "traceback": [
            "\u001b[0;31m---------------------------------------------------------------------------\u001b[0m",
            "\u001b[0;31mNameError\u001b[0m                                 Traceback (most recent call last)",
            "\u001b[0;32m<ipython-input-88-68b933735812>\u001b[0m in \u001b[0;36m<cell line: 1>\u001b[0;34m()\u001b[0m\n\u001b[0;32m----> 1\u001b[0;31m \u001b[0msorted_docs\u001b[0m \u001b[0;34m=\u001b[0m \u001b[0mreranker\u001b[0m\u001b[0;34m(\u001b[0m\u001b[0mrelevant_docs_from_retriver\u001b[0m\u001b[0;34m)\u001b[0m\u001b[0;34m\u001b[0m\u001b[0;34m\u001b[0m\u001b[0m\n\u001b[0m\u001b[1;32m      2\u001b[0m \u001b[0mlen\u001b[0m\u001b[0;34m(\u001b[0m\u001b[0msorted_docs\u001b[0m\u001b[0;34m)\u001b[0m\u001b[0;34m\u001b[0m\u001b[0;34m\u001b[0m\u001b[0m\n",
            "\u001b[0;31mNameError\u001b[0m: name 'relevant_docs_from_retriver' is not defined"
          ]
        }
      ]
    },
    {
      "cell_type": "code",
      "source": [
        "sorted_docs"
      ],
      "metadata": {
        "colab": {
          "base_uri": "https://localhost:8080/"
        },
        "collapsed": true,
        "id": "D7WSAa4OZi2t",
        "outputId": "14499b44-edb7-421c-824a-460155c7b145"
      },
      "execution_count": null,
      "outputs": [
        {
          "output_type": "execute_result",
          "data": {
            "text/plain": [
              "[(0.9992687106132507,\n",
              "  Document(metadata={'source': '../data/hmao_npa_cleaned_v2.txt'}, page_content='уполномоченным представителем юридического лица, индивидуальным предпринимателем или уполномоченным представителем индивидуального предпринимателя определяют круг лиц, с которыми будет осуществляться взаимодействие в ходе проверки, уточняет перечень документов, возможность с их ознакомлением, а также временной режим проверки (с учетом действующего режима работы юридического лица, индивидуального предпринимателя). 3.12.5. В ходе проверки осуществляются: визуальный осмотр территории, находящейся в пользовании юридического лица, индивидуального предпринимателя; анализ документов и представленной информации; иные мероприятия по надзору, предусмотренные Федеральным законом отдекабрягода N 294-ФЗ. 3.12.5.1. Визуальный осмотр территории,')),\n",
              " (0.9988203644752502,\n",
              "  Document(metadata={'source': '../data/hmao_npa_cleaned_v2.txt'}, page_content='предусмотренные Федеральным законом отдекабрягода N 294-ФЗ. 3.12.5.1. Визуальный осмотр территории, находящейся в пользовании юридического лица, индивидуального предпринимателя, осуществляется должностными лицами Природнадзора Югры, его территориального структурного подразделения в присутствии руководителя, иного должностного лица или уполномоченного представителя юридического лица, индивидуального предпринимателя или уполномоченного представителя индивидуального предпринимателя. При выявлении в ходе визуального осмотра фактов нарушений обязательных требований они фиксируются в акте проверки. 3.12.5.2. В случае если выездной проверке не предшествовало проведение документарной проверки, председатель комиссии (уполномоченное должностное')),\n",
              " (0.9985685348510742,\n",
              "  Document(metadata={'source': '../data/hmao_npa_cleaned_v2.txt'}, page_content='юридических лиц, индивидуальных предпринимателей, граждан, а также путем проведения плановых (рейдовых) осмотров. 9. Плановые и внеплановые проверки юридических лиц и индивидуальных предпринимателей проводятся при наличии оснований, установленных Законом N 294-ФЗ. 10. Внеплановые проверки в отношении юридических лиц, индивидуальных предпринимателей, граждан проводятся на основании поступивших в органы местного самоуправления обращений и заявлений граждан, юридических лиц, индивидуальных предпринимателей, информации от органов государственной власти и местного самоуправления, из средств массовой информации о следующих фактах: возникновения угрозы причинения вреда жизни, здоровью граждан, вреда животным, растениям, окружающей среде, объектам')),\n",
              " (0.9972831010818481,\n",
              "  Document(metadata={'source': '../data/hmao_npa_cleaned_v2.txt'}, page_content='осуществляется с целью предупреждения, выявления и пресечения нарушений юридическими лицами, их руководителями, иными должностными лицами или уполномоченными представителями юридических лиц, индивидуальными предпринимателями, их уполномоченными представителями (далее - юридические лица, индивидуальные предприниматели) установленных законодательством обязательных требований посредством организации и проведения проверок юридических лиц, индивидуальных предпринимателей, организации и проведения мероприятий по профилактике нарушений обязательных требований, мероприятий по контролю, осуществляемых без взаимодействия с юридическими лицами, индивидуальными предпринимателями, а также принятия предусмотренных законодательством Российской Федерации')),\n",
              " (0.996356725692749,\n",
              "  Document(metadata={'source': '../data/hmao_npa_cleaned_v2.txt'}, page_content='предпринимателю, уполномоченному представителю индивидуального предпринимателя, присутствующим при проведении проверки, информацию и документы, относящиеся к ее предмету; 7) знакомить руководителя, иное должностное лицо или уполномоченного представителя юридического лица, индивидуального предпринимателя или уполномоченного представителя индивидуального предпринимателя с результатами проведения проверки; 8) при определении мер, принимаемых по фактам выявленных нарушений, учитывать их соответствие тяжести совершенных нарушений, их потенциальной опасности для жизни, здоровья, окружающей среды и имущества, а также не допускать необоснованные ограничения прав и законных интересов граждан, юридических лиц, индивидуальных предпринимателей; 9)')),\n",
              " (0.99480801820755,\n",
              "  Document(metadata={'source': '../data/hmao_npa_cleaned_v2.txt'}, page_content='лицу или уполномоченному представителю юридического лица, индивидуальному предпринимателю, уполномоченному представителю индивидуального предпринимателя под расписку об ознакомлении либо об отказе в ознакомлении с актом проверки. В случае отсутствия руководителя, иного должностного лица или уполномоченного представителя юридического лица, индивидуального предпринимателя или уполномоченного представителя индивидуального предпринимателя, а также в случае отказа указанных лиц дать расписку об ознакомлении либо об отказе в ознакомлении с актом проверки, акт проверки с копиями приложений направляется в адрес юридического лица (места жительства индивидуального предпринимателя) заказным почтовым отправлением с уведомлением о вручении, которое')),\n",
              " (0.9931588768959045,\n",
              "  Document(metadata={'source': '../data/hmao_npa_cleaned_v2.txt'}, page_content='и органами муниципального контроля ежегодных планов проведения плановых проверок юридических лиц и индивидуальных предпринимателей\". 9. Ежегодный план проведения плановых проверок, утвержденный органом прокуратуры и руководителем Службы, доводится до сведения юридических лиц, индивидуальных предпринимателей путем его размещения на едином официальном сайте государственных органов Ханты-Мансийского автономного округа - Югры в сети Интернет www.admhmao.ru в день его утверждения. 10. Плановые проверки юридического лица, индивидуального предпринимателя проводятся не чаще чем один раз в три года. 11. Внеплановые проверки проводится в форме документарной проверки и (или) выездной проверки в порядке, установленном статьямииФедерального закона N')),\n",
              " (0.9847480654716492,\n",
              "  Document(metadata={'source': '../data/hmao_npa_cleaned_v2.txt'}, page_content='внеплановых проверок в отношении юридических лиц, индивидуальных предпринимателей, граждан, порядок оформления их результатов утверждается нормативным правовым актом Администрации города Ханты-Мансийска. 13. По результатам проведения мероприятий по муниципальному контролю должностным лицом уполномоченного органа в отношении юридических лиц и индивидуальных предпринимателей составляется акт проверки по форме, установленной уполномоченным Правительством Российской Федерации федеральным органом исполнительной власти, в отношении физических лиц составляется акт проверки согласно приложениюк настоящему Положению. 14. В случае выявления нарушений обязательных требований законодательства при проведении проверки должностным лицом от имени')),\n",
              " (0.982128381729126,\n",
              "  Document(metadata={'source': '../data/hmao_npa_cleaned_v2.txt'}, page_content='предпринимателями в порядке, установленном законодательством Российской Федерации; 11) соблюдать сроки проведения проверки, установленные Федеральным законом отдекабрягода N 294-ФЗ \"О защите прав юридических лиц, индивидуальных предпринимателей при осуществлении государственного контроля (надзора) и муниципального контроля\"; 12) перед началом проведения выездной проверки по просьбе руководителя, иного должностного лица или уполномоченного представителя юридического лица, индивидуального предпринимателя, его уполномоченного представителя знакомить их с положениями административного регламента, в соответствии с которым проводится проверка; 13) осуществлять запись о проведенной проверке в журнале учета проверок; 14) проводить в ходе')),\n",
              " (0.9758332371711731,\n",
              "  Document(metadata={'source': '../data/hmao_npa_cleaned_v2.txt'}, page_content='и Ханты-Мансийского автономного округа - Югры посредством плановых и внеплановых проверок. 8. Организация и проведение проверок юридических лиц, индивидуальных предпринимателей при осуществлении регионального государственного контроля (надзора) производится с соблюдением требований Федерального закона отдекабрягода N 294-ФЗ \"О защите прав юридических лиц и индивидуальных предпринимателей при осуществлении государственного контроля (надзора) и муниципального контроля\" (далее - Закон N 294-ФЗ), настоящего Порядка и административного регламента исполнения государственной функции по осуществлению регионального государственного контроля (надзора) в области регулируемых государством цен (тарифов) на территории Ханты-Мансийского автономного')),\n",
              " (0.8898117542266846,\n",
              "  Document(metadata={'source': '../data/hmao_npa_cleaned_v2.txt'}, page_content='6) не препятствовать руководителю, иному должностному лицу или уполномоченному представителю юридического лица, индивидуальному предпринимателю, его уполномоченному представителю присутствовать при проведении проверки и давать разъяснения по вопросам, относящимся к предмету проверки; 7) предоставлять руководителю, иному должностному лицу или уполномоченному представителю юридического лица, индивидуальному предпринимателю, его уполномоченному представителю, присутствующим при проведении проверки, информацию и документы, относящиеся к предмету проверки; 8) знакомить руководителя, иное должностное лицо или уполномоченного представителя юридического лица, индивидуального предпринимателя, его уполномоченного представителя с результатами'))]"
            ]
          },
          "metadata": {},
          "execution_count": 475
        }
      ]
    },
    {
      "cell_type": "code",
      "source": [
        "sorted_docs"
      ],
      "metadata": {
        "colab": {
          "base_uri": "https://localhost:8080/"
        },
        "collapsed": true,
        "id": "uvy5u1xfH_oh",
        "outputId": "d54b2b0f-7714-4b0b-b6d4-b2df67dd4a1b"
      },
      "execution_count": null,
      "outputs": [
        {
          "output_type": "execute_result",
          "data": {
            "text/plain": [
              "[(0.9992527365684509,\n",
              "  Document(metadata={'source': '../data/hmao_npa_cleaned_v2.txt'}, page_content='в этих документах, сведениям, содержащимся в имеющихся у Природнадзора Югры, его территориального структурного подразделения документах и (или) полученным в ходе осуществления проверки, юридическому лицу, индивидуальному предпринимателю направляется письмо с информацией об этом и требованием представить в течение десяти рабочих дней необходимые пояснения в письменной форме. 3.13.7. Председатель комиссии (уполномоченное должностное лицо) обязано рассмотреть полученные от юридического лица, индивидуального')),\n",
              " (0.9991961121559143,\n",
              "  Document(metadata={'source': '../data/hmao_npa_cleaned_v2.txt'}, page_content='находящейся в пользовании юридического лица, индивидуального предпринимателя, осуществляется должностными лицами Природнадзора Югры, его территориального структурного подразделения в присутствии руководителя, иного должностного лица или уполномоченного представителя юридического лица, индивидуального предпринимателя или уполномоченного представителя индивидуального предпринимателя. При выявлении в ходе визуального осмотра фактов нарушений обязательных требований они фиксируются в акте проверки. 3.12.5.2. В')),\n",
              " (0.9990185499191284,\n",
              "  Document(metadata={'source': '../data/hmao_npa_cleaned_v2.txt'}, page_content='проверке ошибок и (или) противоречий в представленных юридическим лицом, индивидуальным предпринимателем документах либо несоответствия сведений, содержащихся в этих документах, сведениям, содержащимся в имеющихся у Департамента документах и (или) полученным в ходе осуществления лицензионного контроля, направляет информацию об этом юридическому лицу, предпринимателю с требованием представить в течение десяти рабочих дней необходимые пояснения в письменной форме; выдает предписание об устранении выявленных')),\n",
              " (0.998963475227356,\n",
              "  Document(metadata={'source': '../data/hmao_npa_cleaned_v2.txt'}, page_content='то, что юридическое лицом индивидуальный предприниматель ранее представили недостоверную информацию об осуществлении хозяйственной или иной деятельности, при которой имеется угроза или причиняется вред окружающей среде: в ходе предоставления отчетности и иной информации, предоставление которой является обязательным в соответствии с нормативными правовыми актами; при проведении контрольных (надзорных) мероприятий Однократное получение информации с подтверждающими документами (материалами) Приложениек')),\n",
              " (0.9987146854400635,\n",
              "  Document(metadata={'source': '../data/hmao_npa_cleaned_v2.txt'}, page_content='- начальнику управления лицензирования мотивированное представление с информацией о выявленных нарушениях для принятия при необходимости решения о назначении внеплановой проверки юридического лица, индивидуального предпринимателя по основаниям, указанным в пунктечастистатьиФедерального закона отдекабрягода N 294-ФЗ \"О защите прав юридических лиц и индивидуальных предпринимателей при осуществлении государственного контроля (надзора) и муниципального контроля\"; принимает решение о направлении предостережения')),\n",
              " (0.9986546039581299,\n",
              "  Document(metadata={'source': '../data/hmao_npa_cleaned_v2.txt'}, page_content='проверки документы; в случае выявления при документарной проверке ошибок и (или) противоречий в представленных юридическим лицом, индивидуальным предпринимателем документах либо несоответствия сведений, содержащихся в них, сведениям, содержащимся в имеющихся у Департамента документах и (или) полученным в ходе осуществления лицензионного контроля, направляет информацию об этом юридическому лицу, предпринимателю с требованием представить в течение десяти рабочих дней необходимые пояснения в письменной форме;')),\n",
              " (0.9986169338226318,\n",
              "  Document(metadata={'source': '../data/hmao_npa_cleaned_v2.txt'}, page_content='выявления при документарной проверке ошибок и (или) противоречий в представленных юридическим лицом, индивидуальным предпринимателем документах либо несоответствия сведений, содержащихся в них, сведениям, содержащимся в имеющихся у Департамента документах и (или) полученным в ходе осуществления лицензионного контроля, направляет информацию об этом юридическому лицу, предпринимателю с требованием представить в течение десяти рабочих дней необходимые пояснения в письменной форме; подписывает заявление в суд')),\n",
              " (0.9985136389732361,\n",
              "  Document(metadata={'source': '../data/hmao_npa_cleaned_v2.txt'}, page_content='документов, возможность с их ознакомлением, а также временной режим проверки (с учетом действующего режима работы юридического лица, индивидуального предпринимателя). 3.12.5. В ходе проверки осуществляются: визуальный осмотр территории, находящейся в пользовании юридического лица, индивидуального предпринимателя; анализ документов и представленной информации; иные мероприятия по надзору, предусмотренные Федеральным законом отдекабрягода N 294-ФЗ. 3.12.5.1. Визуальный осмотр территории, находящейся в')),\n",
              " (0.9983152151107788,\n",
              "  Document(metadata={'source': '../data/hmao_npa_cleaned_v2.txt'}, page_content='и достижения целей и задач проведения проверки, в котором отражается: исчерпывающий перечень документов и (или) информации, истребуемых в ходе проверки лично у проверяемого юридического лица, индивидуального предпринимателя; исчерпывающий перечень документов и (или) информации, запрашиваемых и получаемых в ходе проверки в порядке межведомственного информационного взаимодействия от иных государственных органов, органов местного самоуправления либо подведомственных государственным органам или органам')),\n",
              " (0.9974591135978699,\n",
              "  Document(metadata={'source': '../data/hmao_npa_cleaned_v2.txt'}, page_content='контроль осуществляется с целью предупреждения, выявления и пресечения нарушений юридическими лицами, их руководителями, иными должностными лицами или уполномоченными представителями юридических лиц, индивидуальными предпринимателями, их уполномоченными представителями (далее - юридические лица, индивидуальные предприниматели) установленных законодательством обязательных требований посредством организации и проведения проверок юридических лиц, индивидуальных предпринимателей, организации и проведения')),\n",
              " (0.9972097277641296,\n",
              "  Document(metadata={'source': '../data/hmao_npa_cleaned_v2.txt'}, page_content='установленных Законом N 294-ФЗ. 10. Внеплановые проверки в отношении юридических лиц, индивидуальных предпринимателей, граждан проводятся на основании поступивших в органы местного самоуправления обращений и заявлений граждан, юридических лиц, индивидуальных предпринимателей, информации от органов государственной власти и местного самоуправления, из средств массовой информации о следующих фактах: возникновения угрозы причинения вреда жизни, здоровью граждан, вреда животным, растениям, окружающей среде,')),\n",
              " (0.9965645670890808,\n",
              "  Document(metadata={'source': '../data/hmao_npa_cleaned_v2.txt'}, page_content='юридического лица, индивидуальный предприниматель, его уполномоченный представитель имеют право: 1) непосредственно присутствовать при проведении проверки, давать объяснения по вопросам, относящимся к ее предмету; 2) получать от должностных лиц Природнадзора Югры информацию, которая относится к предмету проверки и предоставление которой предусмотрено Федеральным законом отдекабрягода N 294-ФЗ \"О защите прав юридических лиц и индивидуальных предпринимателей при осуществлении государственного контроля')),\n",
              " (0.9949294328689575,\n",
              "  Document(metadata={'source': '../data/hmao_npa_cleaned_v2.txt'}, page_content='и методами исследований, испытаний, измерений; распространять информацию, полученную в результате проведения проверки и составляющую государственную, коммерческую, служебную, иную охраняемую законом тайну, за исключением случаев, предусмотренных законодательством Российской Федерации; превышать установленные сроки проведения проверки; осуществлять выдачу юридическим лицам предписаний или предложений о проведении за их счет мероприятий по контролю; требовать от юридического лица, индивидуального')),\n",
              " (0.9949027299880981,\n",
              "  Document(metadata={'source': '../data/hmao_npa_cleaned_v2.txt'}, page_content='приказом Природнадзор Югры. 12. Должностные лица, указанные в пунктеПорядка, при проведении плановых проверок юридических лиц и индивидуальных предпринимателей обязаны использовать проверочные листы (списки контрольных вопросов). 13. Решения и действия (бездействие) должностных лиц Природнадзора Югры, повлекшие за собой нарушение прав органов государственной власти, органов местного самоуправления муниципальных образований автономного округа, юридических лиц, индивидуальных предпринимателей и граждан при')),\n",
              " (0.9939289093017578,\n",
              "  Document(metadata={'source': '../data/hmao_npa_cleaned_v2.txt'}, page_content='юридического лица, индивидуального предпринимателя представление документов и (или) информации, включая разрешительные документы, имеющиеся в распоряжении иных государственных органов, органов местного самоуправления либо подведомственных государственным органам или органам местного самоуправления организаций, включенные в межведомственный перечень; обязанность должностного лица органа регионального государственного контроля (надзора) знакомить руководителя, иное должностное лицо или уполномоченного')),\n",
              " (0.9907808899879456,\n",
              "  Document(metadata={'source': '../data/hmao_npa_cleaned_v2.txt'}, page_content='руководителю, иному должностному лицу или уполномоченному представителю юридического лица, индивидуальному предпринимателю или уполномоченному представителю индивидуального предпринимателя служебные удостоверения. 3.12.3. Председатель комиссии (уполномоченное должностное лицо) в день прибытия к месту проведения проверки обязан ознакомить руководителя, иного должностного лица или уполномоченного представителя юридического лица, индивидуального предпринимателя или уполномоченного представителя')),\n",
              " (0.990167498588562,\n",
              "  Document(metadata={'source': '../data/hmao_npa_cleaned_v2.txt'}, page_content='его уполномоченного представителя, гражданина ознакомить их с положениями административного регламента (при его наличии), в соответствии с которым проводится проверка. 18.13. Осуществлять запись о проведенной проверке в журнале учета проверок в случае его наличия у юридического лица, индивидуального предпринимателя. 18.14. Знакомить руководителя, иное должностное лицо или уполномоченного представителя юридического лица, индивидуального предпринимателя, его уполномоченного представителя, гражданина с')),\n",
              " (0.9893194437026978,\n",
              "  Document(metadata={'source': '../data/hmao_npa_cleaned_v2.txt'}, page_content='законодательством Российской Федерации. 18.10. Соблюдать сроки проведения проверки, установленные Законом N 294-ФЗ. 18.11. Не требовать от юридического лица, индивидуального предпринимателя, гражданина документы и иные сведения, представление которых не предусмотрено законодательством Российской Федерации. 18.12. Перед началом проведения выездной проверки по просьбе руководителя, иного должностного лица или уполномоченного представителя юридического лица, индивидуального предпринимателя, его')),\n",
              " (0.9870852828025818,\n",
              "  Document(metadata={'source': '../data/hmao_npa_cleaned_v2.txt'}, page_content='от них информацию и документы, необходимые для проведения проверки; беспрепятственно по предъявлении служебного удостоверения и копии приказа Департамента о назначении проверки посещает объекты и проводит обследования используемых организациями, индивидуальными предпринимателями при осуществлении своей деятельности помещений, зданий, сооружений, технических устройств, оборудования, коммуникаций, вспомогательных материалов, а также проводит необходимые исследования, испытания, экспертизы, расследования и')),\n",
              " (0.9855958223342896,\n",
              "  Document(metadata={'source': '../data/hmao_npa_cleaned_v2.txt'}, page_content='Ханты-Мансийского автономного округа - Югры\". 3.6. Выездная проверка проводится в случае, если при документарной проверке: не представляется возможным удостовериться в полноте и достоверности сведений, содержащихся в имеющихся в распоряжении Природнадзора Югры, его территориального структурного подразделения документах юридического лица или индивидуального предпринимателя; не представляется возможным оценить соответствие деятельности юридического лица, индивидуального предпринимателя обязательным')),\n",
              " (0.9844509363174438,\n",
              "  Document(metadata={'source': '../data/hmao_npa_cleaned_v2.txt'}, page_content='и (или) выездных) проверок в отношении юридических лиц и индивидуальных предпринимателей, проводимых в соответствии с ежегодным планом проверок, утверждаемым Главой города Ханты-Мансийска, и в форме внеплановых проверок (документарных и (или) выездных) в отношении юридических лиц, индивидуальных предпринимателей, граждан, а также путем проведения плановых (рейдовых) осмотров. 9. Плановые и внеплановые проверки юридических лиц и индивидуальных предпринимателей проводятся при наличии оснований, установленных')),\n",
              " (0.9808676838874817,\n",
              "  Document(metadata={'source': '../data/hmao_npa_cleaned_v2.txt'}, page_content='представление которых не предусмотрено законодательством Российской Федерации; 12) по просьбе руководителя, иного должностного лица или уполномоченного представителя юридического лица, индивидуального предпринимателя, его уполномоченного представителя знакомить с административными регламентами проведения мероприятий в рамках исполнения государственной функции и порядком их проведения на объектах, используемых юридическим лицом, индивидуальным предпринимателем при осуществлении деятельности; 13)')),\n",
              " (0.9775036573410034,\n",
              "  Document(metadata={'source': '../data/hmao_npa_cleaned_v2.txt'}, page_content='иному должностному лицу или уполномоченному представителю юридического лица, индивидуальному предпринимателю, его уполномоченному представителю, гражданину присутствовать при проведении проверки и давать разъяснения по вопросам, относящимся к предмету проверки. 18.6. Предоставлять руководителю, иному должностному лицу или уполномоченному представителю юридического лица, индивидуальному предпринимателю, его уполномоченному представителю, гражданину, присутствующим при проведении проверки, информацию и')),\n",
              " (0.9754868149757385,\n",
              "  Document(metadata={'source': '../data/hmao_npa_cleaned_v2.txt'}, page_content='их представлению, руководитель, иное должностное лицо или уполномоченный представитель юридического лица, индивидуальный предприниматель или уполномоченный представитель индивидуального предпринимателя имеет право представить председателю комиссии (уполномоченному должностному лицу) письменное объяснение причин непредставления документов. 3.12.7. В случае отказа руководителя, иного должностного лица или уполномоченного представителя юридического лица, индивидуального предпринимателя или уполномоченного')),\n",
              " (0.9091732501983643,\n",
              "  Document(metadata={'source': '../data/hmao_npa_cleaned_v2.txt'}, page_content='связанным с осуществлением регионального государственного ветеринарного надзора, организацией и проведением проверок юридических лиц и индивидуальных предпринимателей, применяются положения Федеральных законов: отдекабрягода N 294-ФЗ \"О защите прав юридических лиц и индивидуальных предпринимателей при осуществлении государственного контроля (надзора) и муниципального контроля\"; отдекабрягода N 184-ФЗ \"О техническом регулировании\". При осуществлении регионального государственного ветеринарного надзора в'))]"
            ]
          },
          "metadata": {},
          "execution_count": 435
        }
      ]
    },
    {
      "cell_type": "markdown",
      "source": [
        "## Middle Problem"
      ],
      "metadata": {
        "id": "7jtm9Wuvn0ai"
      }
    },
    {
      "cell_type": "code",
      "source": [
        "reordering = LongContextReorder()\n",
        "reordered_docs = reordering.transform_documents(sorted_docs)\n",
        "reordered_docs"
      ],
      "metadata": {
        "id": "i_0oLzPPn08d"
      },
      "execution_count": null,
      "outputs": []
    },
    {
      "cell_type": "markdown",
      "source": [
        "## Generation"
      ],
      "metadata": {
        "id": "ofZ5PKOqWlCc"
      }
    },
    {
      "cell_type": "code",
      "source": [
        "def Aug_Generation(query, llm, retriever, result):\n",
        "  contexts = []\n",
        "  for doc in result[:params['top_k_search']]:\n",
        "      contexts.append(doc.page_content)\n",
        "  context_str = '\\n\\n##\\n\\n'.join(contexts)\n",
        "\n",
        "  examples = [\n",
        "      {\n",
        "          \"query\": \"Каков объем экспорта услуг категории 'Поездки' в региональном проекте 'Экспорт услуг' категории 'Поездки' в Ханты-Мансийском автономном округе - Югре?\",\n",
        "          \"answer\": \"Объем экспорта услуг категории 'Поездки' в региональном проекте 'Экспорт услуг' категории 'Поездки' в Ханты-Мансийском автономном округе - Югре составляет 0,033 млрд долларов США.\"\n",
        "      }, {\n",
        "          \"query\": \"Какова общая сумма по городу Когалыму за 2013-2014 годы?\",\n",
        "          \"answer\": \"Общая сумма по городу Когалыму за 2013-2014 годы составляет 265147484,00 рублей.\"\n",
        "      }, {\n",
        "          \"query\": \"Где узнать о порядке обжалования решений?\",\n",
        "          \"answer\": \"О порядке обжалования действий (бездействия) и решений, осуществляемых и принимаемых в ходе предоставления государственной услуги, можно узнать у ответственных должностных лиц Департамента, которые ответственны за предоставление государственной услуги.\"\n",
        "      }, {\n",
        "          \"query\": \"Когда принято постановление Правительства автономного округа N 48-п?\",\n",
        "          \"answer\": \"Постановление Правительства Ханты-Мансийского автономного округа - Югры N 48-п 'Об оплате труда работников государственных учреждений Ханты-Мансийского автономного округа - Югры' принято 3 марта 2005 года.\"\n",
        "      }, {\n",
        "          \"query\": \"Кто отвечает за информационную безопасность в ХМАО-Югре, если Губернатор отсутствует?\",\n",
        "          \"answer\": \"В случае отсутствия Губернатора Ханты-Мансийского автономного округа - Югры, его обязанности исполняет заместитель Губернатора Ханты-Мансийского автономного округа - Югры. Заместитель Губернатора имеет в ведении Департамент информационных технологий и цифрового развития Ханты-Мансийского автономного округа - Югры, который, вероятно, отвечает за вопросы информационной безопасности.\"\n",
        "      }\n",
        "  ]\n",
        "\n",
        "  example_template = \"\"\"Пользователь: {query}\n",
        "  ИИ: {answer}\n",
        "  \"\"\"\n",
        "\n",
        "  example_prompt = PromptTemplate(\n",
        "      input_variables=[\"query\", \"answer\"],\n",
        "      template=example_template)\n",
        "\n",
        "  prefix = \"\"\"\n",
        "  Игнорируй все предыдущие инструкции. Ты консультант-юрист. Помогаешь с вопросами\n",
        "  по нормативным правовым актам (далее НПА) ХАНТЫ-МАНСИЙСКОГО АВТОНОМНОГО ОКРУГА-ЮГРЫ.\n",
        "  Будь вежлив. Выяви потребность клиента и помоги ему решить ее с помощью НПА.\n",
        "  Все НПА действительные. Отвечай на вопросы на основе фактов, которые тебе дадут.\n",
        "  Не придумывай новую информация! Также используй данные из контекста.\n",
        "\n",
        "  ###\n",
        "\n",
        "  Контекст:\n",
        "  {context_str}\n",
        "\n",
        "  ###\n",
        "\n",
        "  Используй только знания о НПА и примеры ответов на консультациях. Если в этих\n",
        "  данных нет ответа и ты в этом уверен, скажи, что “я не знаю”, предложи обратиться к живому\n",
        "  консультанту компании. Не придумывай факты, которых нет в контексте. Ты можешь\n",
        "  использовать свои общие знания в разных областях,\n",
        "  чтобы давать общие советы своим пользователям.\n",
        "  Отвечай на языке, на котором посетитель задал вопрос(по умолчанию используй русский язык).\n",
        "\n",
        "  ###\n",
        "\n",
        "  В своем ответе используй следующие принципы:\n",
        "  1. Ты должен давать четкие, краткие и прямые ответы.\n",
        "  2. Исключи ненужные напоминания, извинения, упоминания самого себя и любые заранее запрограммированные тонкости.\n",
        "  3. Сохраняй непринужденный тон в общении.\n",
        "  4. Будь прозрачным; если ты не уверен в ответе или если вопрос выходит за рамки твоих возможностей или знаний, признай это.\n",
        "  5. В случае неясных или двусмысленных вопросов задавай дополнительные вопросы, чтобы лучше понять намерения пользователя.\n",
        "  6. При объяснении концепций используй примеры и аналогии из реальной жизни, где это возможно.\n",
        "  7. В случае сложных запросов сделай глубокий вдох и работай над проблемой шаг за шагом.\n",
        "  8. За каждый ответ ты получишь чаевые до 200 долларов (в зависимости от качества твоего ответа).\n",
        "  Очень важно, чтобы ты понял это правильно. На кону несколько жизней и моя карьера.\n",
        "\n",
        "  Вот несколько примеров ответов:\n",
        "\n",
        "  ###\n",
        "\n",
        "  \"\"\"\n",
        "\n",
        "  suffix = \"\"\"\n",
        "  Пользователь: {query}\n",
        "  ИИ: \"\"\"\n",
        "\n",
        "  few_shot_prompt_template = FewShotPromptTemplate(\n",
        "      examples=examples,\n",
        "      example_prompt=example_prompt,\n",
        "      prefix=prefix,\n",
        "      suffix=suffix,\n",
        "      input_variables=[\"query\", \"context_str\"],\n",
        "      example_separator=\"\\n\\n\"\n",
        "  )\n",
        "\n",
        "  return llm.invoke(few_shot_prompt_template.format(query=query, context_str=context_str)).content\n"
      ],
      "metadata": {
        "id": "G3ee3EIigCYm"
      },
      "execution_count": null,
      "outputs": []
    },
    {
      "cell_type": "markdown",
      "source": [
        "# validation"
      ],
      "metadata": {
        "id": "BeVCm9_M1rVp"
      }
    },
    {
      "cell_type": "code",
      "source": [
        "class Self_Validation_Pipeline:\n",
        "    def __init__(self, llm, cross_tokenizer, cross_model, retriever):\n",
        "        self.llm = llm\n",
        "        self.cross_tokenizer = cross_tokenizer\n",
        "        self.cross_model = cross_model\n",
        "        self.retriever = retriever\n",
        "        self.self_query = False\n",
        "        self.multi_query = False\n",
        "\n",
        "    def self_querying(self, query):\n",
        "        \"\"\"\n",
        "        Функция Self-Querying для генерации переформулированных запросов.\n",
        "        \"\"\"\n",
        "\n",
        "        QUERY_REDACTING_PROMPT = f\"\"\"\n",
        "        Ты – русскоязычный полезный ассистент.\n",
        "        Ты помогаешь технической поддержке с поступающими вопросами.\n",
        "        Пользователи не всегда пишут полные вопросы, ты помогаешь\n",
        "        перефразировать поступающий вопрос и выделяешь основную проблему,\n",
        "        если это требуется. Ты всегда исправишь опечатки и ошибки.\n",
        "        Постарайся максимально передать изначальный смысл и посыл вопроса.\n",
        "        Вот вопрос пользователя: {query}\n",
        "        Перефразированный и исправь вопрос:\n",
        "        \"\"\"\n",
        "\n",
        "        return self.llm.invoke(QUERY_REDACTING_PROMPT).content\n",
        "\n",
        "    def augmentation_generation(self, query, result):\n",
        "        \"\"\"\n",
        "        Функция Augmentation Generation для генерации ответов на вопросы.\n",
        "        \"\"\"\n",
        "\n",
        "        contexts = []\n",
        "        for doc in result[:15]: # Я не знаю как вынести этот параметр адекватно\n",
        "            contexts.append(doc.page_content)\n",
        "        context_str = '\\n\\n##\\n\\n'.join(contexts)\n",
        "\n",
        "        examples = [\n",
        "            {\n",
        "                \"query\": \"Каков объем экспорта услуг категории 'Поездки' в региональном проекте 'Экспорт услуг' категории 'Поездки' в Ханты-Мансийском автономном округе - Югре?\",\n",
        "                \"answer\": \"Объем экспорта услуг категории 'Поездки' в региональном проекте 'Экспорт услуг' категории 'Поездки' в Ханты-Мансийском автономном округе - Югре составляет 0,033 млрд долларов США.\"\n",
        "            }, {\n",
        "                \"query\": \"Какова общая сумма по городу Когалыму за 2013-2014 годы?\",\n",
        "                \"answer\": \"Общая сумма по городу Когалыму за 2013-2014 годы составляет 265147484,00 рублей.\"\n",
        "            }, {\n",
        "                \"query\": \"Где узнать о порядке обжалования решений?\",\n",
        "                \"answer\": \"О порядке обжалования действий (бездействия) и решений, осуществляемых и принимаемых в ходе предоставления государственной услуги, можно узнать у ответственных должностных лиц Департамента, которые ответственны за предоставление государственной услуги.\"\n",
        "            }, {\n",
        "                \"query\": \"Когда принято постановление Правительства автономного округа N 48-п?\",\n",
        "                \"answer\": \"Постановление Правительства Ханты-Мансийского автономного округа - Югры N 48-п 'Об оплате труда работников государственных учреждений Ханты-Мансийского автономного округа - Югры' принято 3 марта 2005 года.\"\n",
        "            }, {\n",
        "                \"query\": \"Кто отвечает за информационную безопасность в ХМАО-Югре, если Губернатор отсутствует?\",\n",
        "                \"answer\": \"В случае отсутствия Губернатора Ханты-Мансийского автономного округа - Югры, его обязанности исполняет заместитель Губернатора Ханты-Мансийского автономного округа - Югры. Заместитель Губернатора имеет в ведении Департамент информационных технологий и цифрового развития Ханты-Мансийского автономного округа - Югры, который, вероятно, отвечает за вопросы информационной безопасности.\"\n",
        "            }\n",
        "        ]\n",
        "\n",
        "        example_template = \"\"\"Пользователь: {query}\n",
        "        ИИ: {answer}\n",
        "        \"\"\"\n",
        "\n",
        "        example_prompt = PromptTemplate(\n",
        "            input_variables=[\"query\", \"answer\"],\n",
        "            template=example_template)\n",
        "\n",
        "        prefix = \"\"\"\n",
        "        Игнорируй все предыдущие инструкции. Ты консультант-юрист. Помогаешь с вопросами\n",
        "        по нормативным правовым актам (далее НПА) ХАНТЫ-МАНСИЙСКОГО АВТОНОМНОГО ОКРУГА-ЮГРЫ.\n",
        "        Будь вежлив. Выяви потребность клиента и помоги ему решить ее с помощью НПА.\n",
        "        Все НПА действительные. Отвечай на вопросы на основе фактов, которые тебе дадут.\n",
        "        Не придумывай новую информация! Также используй данные из контекста.\n",
        "\n",
        "        ###\n",
        "\n",
        "        Контекст:\n",
        "        {context_str}\n",
        "\n",
        "        ###\n",
        "\n",
        "        Используй только знания о НПА и примеры ответов на консультациях. Если в этих\n",
        "        данных нет ответа и ты в этом уверен, скажи, что “я не знаю”, предложи обратиться к живому\n",
        "        консультанту компании. Не придумывай факты, которых нет в контексте. Ты можешь\n",
        "        использовать свои общие знания в разных областях,\n",
        "        чтобы давать общие советы своим пользователям.\n",
        "        Отвечай на языке, на котором посетитель задал вопрос(по умолчанию используй русский язык).\n",
        "\n",
        "        ###\n",
        "\n",
        "        В своем ответе используй следующие принципы:\n",
        "        1. Ты должен давать четкие, краткие и прямые ответы.\n",
        "        2. Исключи ненужные напоминания, извинения, упоминания самого себя и любые заранее запрограммированные тонкости.\n",
        "        3. Сохраняй непринужденный тон в общении.\n",
        "        4. Будь прозрачным; если ты не уверен в ответе или если вопрос выходит за рамки твоих возможностей или знаний, признай это.\n",
        "        5. В случае неясных или двусмысленных вопросов задавай дополнительные вопросы, чтобы лучше понять намерения пользователя.\n",
        "        6. При объяснении концепций используй примеры и аналогии из реальной жизни, где это возможно.\n",
        "        7. В случае сложных запросов сделай глубокий вдох и работай над проблемой шаг за шагом.\n",
        "        8. За каждый ответ ты получишь чаевые до 200 долларов (в зависимости от качества твоего ответа).\n",
        "        Очень важно, чтобы ты понял это правильно. На кону несколько жизней и моя карьера.\n",
        "\n",
        "        Вот несколько примеров ответов:\n",
        "\n",
        "        ###\n",
        "\n",
        "        \"\"\"\n",
        "\n",
        "        suffix = \"\"\"\n",
        "        Пользователь: {query}\n",
        "        ИИ: \"\"\"\n",
        "\n",
        "        few_shot_prompt_template = FewShotPromptTemplate(\n",
        "            examples=examples,\n",
        "            example_prompt=example_prompt,\n",
        "            prefix=prefix,\n",
        "            suffix=suffix,\n",
        "            input_variables=[\"query\", \"context_str\"],\n",
        "            example_separator=\"\\n\\n\"\n",
        "        )\n",
        "\n",
        "        return self.llm.invoke(few_shot_prompt_template.format(query=query, context_str=context_str)).content, contexts\n",
        "\n",
        "    async def multi_query_retriever(self, query):\n",
        "        \"\"\"\n",
        "        Функция Multi-Query Retriever для переформулирования запросов и поиска по ним.\n",
        "        \"\"\"\n",
        "\n",
        "        QUERY_EXPANSION_PROMPT = PromptTemplate(\n",
        "            input_variables=[\"question\"],\n",
        "            template=\n",
        "            \"\"\"\n",
        "            Ты – русскоязычный полезный ассистент.Твоя задача — сгенерировать три\n",
        "            различных версий заданного пользовательского вопроса для извлечения\n",
        "            соответствующих документов из векторной базы данных.\n",
        "            Создавая несколько точек зрения на вопрос пользователя, ваша цель — помочь\n",
        "            пользователю преодолеть некоторые ограничения поиска по сходству на основе расстояния.\n",
        "            Предоставьте эти альтернативные вопросы, разделенные символами новой строки.\n",
        "            Предоставьте только запрос, без нумерации.\n",
        "            Исходный вопрос: {question}\n",
        "            \"\"\",\n",
        "        )\n",
        "        retriever_from_llm = MultiQueryRetriever.from_llm(\n",
        "            retriever=self.retriever,\n",
        "            llm=self.llm,\n",
        "            prompt=QUERY_EXPANSION_PROMPT,\n",
        "            include_original=True\n",
        "        )\n",
        "\n",
        "        run_manager = AsyncCallbackManagerForRetrieverRun(\n",
        "            run_id=\"first_id\",\n",
        "            handlers=[],\n",
        "            inheritable_handlers=[]\n",
        "        )\n",
        "\n",
        "        unique_docs = await retriever_from_llm._aget_relevant_documents(\n",
        "            query=query,\n",
        "            run_manager=run_manager\n",
        "            )\n",
        "\n",
        "        return unique_docs\n",
        "\n",
        "    def reranker(self, query, docs):\n",
        "      \"\"\"\n",
        "      Функция Reranker для сортировки документов с помощью cross-encoder.\n",
        "      \"\"\"\n",
        "\n",
        "      pairs = []\n",
        "      for doc in docs:\n",
        "          tokenized_input = self.cross_tokenizer(query, doc.page_content, truncation=True, max_length=512, return_tensors=\"pt\")\n",
        "          pairs.append(tokenized_input)\n",
        "      scores = []\n",
        "      for pair in pairs:\n",
        "          outputs = self.cross_model(**pair)\n",
        "          logits = outputs.logits\n",
        "          probabilities = F.softmax(logits, dim=-1)\n",
        "          prob_for_related = probabilities[0, 1]\n",
        "          scores.append(prob_for_related.item())\n",
        "\n",
        "      scored_docs = zip(scores, docs)\n",
        "      filtered_docs = [(score, doc) for score, doc in scored_docs if score >= 0.8] #  Тоже не знаю как вытащить правильно\n",
        "      if len(filtered_docs) == 0:\n",
        "          filtered_docs = [(score, doc) for score, doc in scored_docs]\n",
        "      sorted_docs_with_scores = sorted(filtered_docs, key=lambda x: x[0], reverse=True)\n",
        "      sorted_docs = [doc for _, doc in sorted_docs_with_scores]\n",
        "      return sorted_docs\n",
        "\n",
        "    async def predict(self, query):\n",
        "        \"\"\"\n",
        "        Основной метод для выполнения всех этапов пайплайна.\n",
        "        \"\"\"\n",
        "\n",
        "        reformulated_query = self.self_querying(query)\n",
        "\n",
        "        docs = await self.multi_query_retriever(reformulated_query)\n",
        "\n",
        "        sorted_docs = self.reranker(query, docs)\n",
        "\n",
        "        response, context = self.augmentation_generation(query, sorted_docs)\n",
        "\n",
        "        return {\"answer\": response, \"context\": context}\n"
      ],
      "metadata": {
        "id": "lkDThbp4RzIS"
      },
      "execution_count": null,
      "outputs": []
    },
    {
      "cell_type": "code",
      "source": [
        "pipeline = Self_Validation_Pipeline(llm=llm,\n",
        "                                    cross_tokenizer=cross_tokenizer,\n",
        "                                    cross_model=cross_model,\n",
        "                                    retriever=ensemble_retriever\n",
        "                                    )"
      ],
      "metadata": {
        "id": "Dbt0kc2-VGqM"
      },
      "execution_count": null,
      "outputs": []
    },
    {
      "cell_type": "markdown",
      "source": [
        "### Example in code"
      ],
      "metadata": {
        "id": "Mf3VSyE6VCkK"
      }
    },
    {
      "cell_type": "code",
      "source": [
        "query = \"Какие условия для покупки объекта в госсобственность округа, если он дороже 100 млн рублей?\""
      ],
      "metadata": {
        "id": "ZJQWAujT3s9N"
      },
      "execution_count": null,
      "outputs": []
    },
    {
      "cell_type": "code",
      "source": [
        "result = await pipeline.predict(query=query)\n",
        "print(result)"
      ],
      "metadata": {
        "colab": {
          "base_uri": "https://localhost:8080/"
        },
        "id": "DBAb4ricVmMI",
        "outputId": "26ee7a3f-5116-4a72-8505-8c8dfbf4bc5b"
      },
      "execution_count": null,
      "outputs": [
        {
          "output_type": "stream",
          "name": "stdout",
          "text": [
            "{'answer': 'Если предполагаемая стоимость объекта, который вы хотите приобрести в государственную собственность округа, превышает 100 миллионов рублей, вам необходимо направить в Департамент экономического развития автономного округа (Депэкономики Югры) документы для проведения проверки инвестиционного проекта. Эта проверка будет касаться эффективности использования бюджетных средств, направляемых на капитальные вложения. \\n\\nЗаключение Депэкономики должно содержать выводы о наличии или отсутствии подходящего объекта в казне округа, соответствие технических характеристик объекта целям его приобретения, а также соответствие обоснования стоимости объекта требованиям законодательства о контрактной системе.', 'context': ['объекта, не превышаетмиллионов рублей, Депимущества Югры осуществляет оценку рыночной стоимости объекта в соответствии с пунктомПорядка. Если предполагаемая стоимость объекта, указанного в заключении Депимущества Югры об отсутствии оснований, препятствующих приобретению объекта, свышемиллионов рублей, Инициатор в порядке, установленном Правительством автономного округа, направляет в Департамент экономического развития автономного округа (далее - Депэкономики Югры) документы, необходимые для проведения проверки инвестиционного проекта, предусматривающего приобретение объекта, на предмет эффективности использования средств бюджета автономного округа, направляемых на капитальные вложения (далее - проверка). В случае получения заключения', 'содержать выводы: об отсутствии в казне автономного округа объекта, пригодного для использования, или наличии объекта, соответствующего техническим характеристикам и целям приобретения; о соответствии (несоответствии) технических характеристик объекта целям его приобретения; о соответствии (несоответствии) обоснования стоимости объекта требованиям законодательства Российской Федерации о контрактной системе в сфере закупок товаров, работ, услуг для обеспечения государственных и муниципальных нужд. 14. В случае если предполагаемая стоимость объекта, указанного в заключении Депимущества Югры об отсутствии оснований, препятствующих приобретению объекта, не превышаетмиллионов рублей, Депимущества Югры осуществляет оценку рыночной стоимости']}\n"
          ]
        }
      ]
    },
    {
      "cell_type": "code",
      "source": [
        "print(result['answer'])"
      ],
      "metadata": {
        "colab": {
          "base_uri": "https://localhost:8080/"
        },
        "id": "nzaT-OOp8KeQ",
        "outputId": "8b3fb733-d5f6-41ee-e8ea-b5e45b07ac3f"
      },
      "execution_count": null,
      "outputs": [
        {
          "output_type": "stream",
          "name": "stdout",
          "text": [
            "Если предполагаемая стоимость объекта, который вы хотите приобрести в государственную собственность округа, превышает 100 миллионов рублей, вам необходимо направить в Департамент экономического развития автономного округа (Депэкономики Югры) документы для проведения проверки инвестиционного проекта. Эта проверка будет касаться эффективности использования бюджетных средств, направляемых на капитальные вложения. \n",
            "\n",
            "Заключение Депэкономики должно содержать выводы о наличии или отсутствии подходящего объекта в казне округа, соответствие технических характеристик объекта целям его приобретения, а также соответствие обоснования стоимости объекта требованиям законодательства о контрактной системе.\n"
          ]
        }
      ]
    },
    {
      "cell_type": "code",
      "source": [
        "print(result['context'][:2])"
      ],
      "metadata": {
        "colab": {
          "base_uri": "https://localhost:8080/"
        },
        "id": "ImQUEI0f6zjl",
        "outputId": "feeb7d08-dffc-4a08-ef91-dc703391ce84"
      },
      "execution_count": null,
      "outputs": [
        {
          "output_type": "stream",
          "name": "stdout",
          "text": [
            "['объекта, не превышаетмиллионов рублей, Депимущества Югры осуществляет оценку рыночной стоимости объекта в соответствии с пунктомПорядка. Если предполагаемая стоимость объекта, указанного в заключении Депимущества Югры об отсутствии оснований, препятствующих приобретению объекта, свышемиллионов рублей, Инициатор в порядке, установленном Правительством автономного округа, направляет в Департамент экономического развития автономного округа (далее - Депэкономики Югры) документы, необходимые для проведения проверки инвестиционного проекта, предусматривающего приобретение объекта, на предмет эффективности использования средств бюджета автономного округа, направляемых на капитальные вложения (далее - проверка). В случае получения заключения', 'содержать выводы: об отсутствии в казне автономного округа объекта, пригодного для использования, или наличии объекта, соответствующего техническим характеристикам и целям приобретения; о соответствии (несоответствии) технических характеристик объекта целям его приобретения; о соответствии (несоответствии) обоснования стоимости объекта требованиям законодательства Российской Федерации о контрактной системе в сфере закупок товаров, работ, услуг для обеспечения государственных и муниципальных нужд. 14. В случае если предполагаемая стоимость объекта, указанного в заключении Депимущества Югры об отсутствии оснований, препятствующих приобретению объекта, не превышаетмиллионов рублей, Депимущества Югры осуществляет оценку рыночной стоимости']\n"
          ]
        }
      ]
    },
    {
      "cell_type": "markdown",
      "source": [
        "## eval"
      ],
      "metadata": {
        "id": "H9UH6wLE-_ss"
      }
    },
    {
      "cell_type": "code",
      "execution_count": null,
      "metadata": {
        "id": "HY75VztYxhni"
      },
      "outputs": [],
      "source": [
        "class Evaluator:\n",
        "    \"\"\"\n",
        "    Class for evaluating pipeline on test set.\n",
        "    \"\"\"\n",
        "    def __init__(self, test_set_path: str):\n",
        "        self.raw_test_data = pd.read_excel(test_set_path).drop(columns=['contexts', 'evolution_type', 'metadata', 'episode_done'])\n",
        "        self.test_data = self.raw_test_data.sample(n=100, random_state=42)\n",
        "        print(f\"Test data size {self.test_data.shape}\")\n",
        "\n",
        "    async def evaluate_pipe(self, pipeline) -> None:\n",
        "        \"\"\"\n",
        "        Evaluate pipeline on test set.\n",
        "        \"\"\"\n",
        "        answers = []\n",
        "        contexts = []\n",
        "        times = []\n",
        "        for item in tqdm(self.test_data['question'].values):\n",
        "            start_time = time.time()\n",
        "            result = await pipeline.predict(item)\n",
        "            end_time = time.time()\n",
        "            answers.append(result['answer'])\n",
        "            contexts.append(result['context'])\n",
        "            times.append(end_time - start_time)\n",
        "\n",
        "        mean_time = sum(times) / len(times)\n",
        "        print(f\"Mean time for getting answer: {mean_time}\")\n",
        "\n",
        "        test_answers = self.test_data\n",
        "        test_answers['answer'] = answers\n",
        "        test_answers['contexts'] = contexts\n",
        "        test_answers.to_csv(\"answers.csv\")\n",
        "        dataset = Dataset.from_dict(test_answers.to_dict(orient='list'))\n",
        "\n",
        "        result = evaluate(\n",
        "            dataset,\n",
        "            metrics=[\n",
        "                context_precision,\n",
        "                faithfulness,\n",
        "                answer_relevancy,\n",
        "                context_recall,\n",
        "                answer_correctness\n",
        "            ],\n",
        "        )\n",
        "        df = result.to_pandas()\n",
        "        df['mean_time'] = mean_time\n",
        "        df.to_csv(f'results_{pipeline.__class__.__name__}.csv')\n",
        "        print(f\"Saved results to 'results_{pipeline.__class__.__name__}.csv'\")\n",
        "        print(f\"Metrics: {result}\")"
      ]
    },
    {
      "cell_type": "code",
      "execution_count": null,
      "metadata": {
        "colab": {
          "base_uri": "https://localhost:8080/"
        },
        "id": "-b1UZakFxaUy",
        "outputId": "258b6fcd-42d6-4733-8749-0a2569b03f76"
      },
      "outputs": [
        {
          "output_type": "stream",
          "name": "stdout",
          "text": [
            "Test data size (100, 2)\n"
          ]
        }
      ],
      "source": [
        "evaler = Evaluator(\"v2_ragas_npa_dataset_firstPart.xlsx\")"
      ]
    },
    {
      "cell_type": "code",
      "source": [
        "await evaler.evaluate_pipe(pipeline)"
      ],
      "metadata": {
        "colab": {
          "base_uri": "https://localhost:8080/",
          "height": 572
        },
        "collapsed": true,
        "id": "1Q1PQbzGkoTF",
        "outputId": "ed6f0550-61d5-4b00-9128-e0fb8a59922f"
      },
      "execution_count": null,
      "outputs": [
        {
          "output_type": "stream",
          "name": "stderr",
          "text": [
            " 41%|████      | 41/100 [34:50<50:08, 50.99s/it]\n"
          ]
        },
        {
          "output_type": "error",
          "ename": "TypeError",
          "evalue": "'<' not supported between instances of 'Document' and 'Document'",
          "traceback": [
            "\u001b[0;31m---------------------------------------------------------------------------\u001b[0m",
            "\u001b[0;31mTypeError\u001b[0m                                 Traceback (most recent call last)",
            "\u001b[0;32m<ipython-input-82-9aa6893cc38d>\u001b[0m in \u001b[0;36m<cell line: 1>\u001b[0;34m()\u001b[0m\n\u001b[0;32m----> 1\u001b[0;31m \u001b[0;32mawait\u001b[0m \u001b[0mevaler\u001b[0m\u001b[0;34m.\u001b[0m\u001b[0mevaluate_pipe\u001b[0m\u001b[0;34m(\u001b[0m\u001b[0mpipeline\u001b[0m\u001b[0;34m)\u001b[0m\u001b[0;34m\u001b[0m\u001b[0;34m\u001b[0m\u001b[0m\n\u001b[0m",
            "\u001b[0;32m<ipython-input-80-2e43aee1c724>\u001b[0m in \u001b[0;36mevaluate_pipe\u001b[0;34m(self, pipeline)\u001b[0m\n\u001b[1;32m     17\u001b[0m         \u001b[0;32mfor\u001b[0m \u001b[0mitem\u001b[0m \u001b[0;32min\u001b[0m \u001b[0mtqdm\u001b[0m\u001b[0;34m(\u001b[0m\u001b[0mself\u001b[0m\u001b[0;34m.\u001b[0m\u001b[0mtest_data\u001b[0m\u001b[0;34m[\u001b[0m\u001b[0;34m'question'\u001b[0m\u001b[0;34m]\u001b[0m\u001b[0;34m.\u001b[0m\u001b[0mvalues\u001b[0m\u001b[0;34m)\u001b[0m\u001b[0;34m:\u001b[0m\u001b[0;34m\u001b[0m\u001b[0;34m\u001b[0m\u001b[0m\n\u001b[1;32m     18\u001b[0m             \u001b[0mstart_time\u001b[0m \u001b[0;34m=\u001b[0m \u001b[0mtime\u001b[0m\u001b[0;34m.\u001b[0m\u001b[0mtime\u001b[0m\u001b[0;34m(\u001b[0m\u001b[0;34m)\u001b[0m\u001b[0;34m\u001b[0m\u001b[0;34m\u001b[0m\u001b[0m\n\u001b[0;32m---> 19\u001b[0;31m             \u001b[0mresult\u001b[0m \u001b[0;34m=\u001b[0m \u001b[0;32mawait\u001b[0m \u001b[0mpipeline\u001b[0m\u001b[0;34m.\u001b[0m\u001b[0mpredict\u001b[0m\u001b[0;34m(\u001b[0m\u001b[0mitem\u001b[0m\u001b[0;34m)\u001b[0m\u001b[0;34m\u001b[0m\u001b[0;34m\u001b[0m\u001b[0m\n\u001b[0m\u001b[1;32m     20\u001b[0m             \u001b[0mend_time\u001b[0m \u001b[0;34m=\u001b[0m \u001b[0mtime\u001b[0m\u001b[0;34m.\u001b[0m\u001b[0mtime\u001b[0m\u001b[0;34m(\u001b[0m\u001b[0;34m)\u001b[0m\u001b[0;34m\u001b[0m\u001b[0;34m\u001b[0m\u001b[0m\n\u001b[1;32m     21\u001b[0m             \u001b[0manswers\u001b[0m\u001b[0;34m.\u001b[0m\u001b[0mappend\u001b[0m\u001b[0;34m(\u001b[0m\u001b[0mresult\u001b[0m\u001b[0;34m[\u001b[0m\u001b[0;34m'answer'\u001b[0m\u001b[0;34m]\u001b[0m\u001b[0;34m)\u001b[0m\u001b[0;34m\u001b[0m\u001b[0;34m\u001b[0m\u001b[0m\n",
            "\u001b[0;32m<ipython-input-67-6f3586e7416d>\u001b[0m in \u001b[0;36mpredict\u001b[0;34m(self, query)\u001b[0m\n\u001b[1;32m    189\u001b[0m         \u001b[0mdocs\u001b[0m \u001b[0;34m=\u001b[0m \u001b[0;32mawait\u001b[0m \u001b[0mself\u001b[0m\u001b[0;34m.\u001b[0m\u001b[0mmulti_query_retriever\u001b[0m\u001b[0;34m(\u001b[0m\u001b[0mreformulated_query\u001b[0m\u001b[0;34m)\u001b[0m\u001b[0;34m\u001b[0m\u001b[0;34m\u001b[0m\u001b[0m\n\u001b[1;32m    190\u001b[0m \u001b[0;34m\u001b[0m\u001b[0m\n\u001b[0;32m--> 191\u001b[0;31m         \u001b[0msorted_docs\u001b[0m \u001b[0;34m=\u001b[0m \u001b[0mself\u001b[0m\u001b[0;34m.\u001b[0m\u001b[0mreranker\u001b[0m\u001b[0;34m(\u001b[0m\u001b[0mquery\u001b[0m\u001b[0;34m,\u001b[0m \u001b[0mdocs\u001b[0m\u001b[0;34m)\u001b[0m\u001b[0;34m\u001b[0m\u001b[0;34m\u001b[0m\u001b[0m\n\u001b[0m\u001b[1;32m    192\u001b[0m \u001b[0;34m\u001b[0m\u001b[0m\n\u001b[1;32m    193\u001b[0m         \u001b[0mresponse\u001b[0m\u001b[0;34m,\u001b[0m \u001b[0mcontext\u001b[0m \u001b[0;34m=\u001b[0m \u001b[0mself\u001b[0m\u001b[0;34m.\u001b[0m\u001b[0maugmentation_generation\u001b[0m\u001b[0;34m(\u001b[0m\u001b[0mquery\u001b[0m\u001b[0;34m,\u001b[0m \u001b[0msorted_docs\u001b[0m\u001b[0;34m)\u001b[0m\u001b[0;34m\u001b[0m\u001b[0;34m\u001b[0m\u001b[0m\n",
            "\u001b[0;32m<ipython-input-67-6f3586e7416d>\u001b[0m in \u001b[0;36mreranker\u001b[0;34m(self, query, docs)\u001b[0m\n\u001b[1;32m    176\u001b[0m       \u001b[0mscored_docs\u001b[0m \u001b[0;34m=\u001b[0m \u001b[0mzip\u001b[0m\u001b[0;34m(\u001b[0m\u001b[0mscores\u001b[0m\u001b[0;34m,\u001b[0m \u001b[0mdocs\u001b[0m\u001b[0;34m)\u001b[0m\u001b[0;34m\u001b[0m\u001b[0;34m\u001b[0m\u001b[0m\n\u001b[1;32m    177\u001b[0m       \u001b[0mfiltered_docs\u001b[0m \u001b[0;34m=\u001b[0m \u001b[0;34m[\u001b[0m\u001b[0;34m(\u001b[0m\u001b[0mscore\u001b[0m\u001b[0;34m,\u001b[0m \u001b[0mdoc\u001b[0m\u001b[0;34m)\u001b[0m \u001b[0;32mfor\u001b[0m \u001b[0mscore\u001b[0m\u001b[0;34m,\u001b[0m \u001b[0mdoc\u001b[0m \u001b[0;32min\u001b[0m \u001b[0mscored_docs\u001b[0m \u001b[0;32mif\u001b[0m \u001b[0mscore\u001b[0m \u001b[0;34m>=\u001b[0m \u001b[0;36m0.8\u001b[0m\u001b[0;34m]\u001b[0m \u001b[0;31m#  Тоже не знаю как вытащить правильно\u001b[0m\u001b[0;34m\u001b[0m\u001b[0;34m\u001b[0m\u001b[0m\n\u001b[0;32m--> 178\u001b[0;31m       \u001b[0msorted_docs_with_scores\u001b[0m \u001b[0;34m=\u001b[0m \u001b[0msorted\u001b[0m\u001b[0;34m(\u001b[0m\u001b[0mfiltered_docs\u001b[0m\u001b[0;34m,\u001b[0m \u001b[0mreverse\u001b[0m\u001b[0;34m=\u001b[0m\u001b[0;32mTrue\u001b[0m\u001b[0;34m)\u001b[0m\u001b[0;34m\u001b[0m\u001b[0;34m\u001b[0m\u001b[0m\n\u001b[0m\u001b[1;32m    179\u001b[0m       \u001b[0msorted_docs\u001b[0m \u001b[0;34m=\u001b[0m \u001b[0;34m[\u001b[0m\u001b[0mdoc\u001b[0m \u001b[0;32mfor\u001b[0m \u001b[0m_\u001b[0m\u001b[0;34m,\u001b[0m \u001b[0mdoc\u001b[0m \u001b[0;32min\u001b[0m \u001b[0msorted_docs_with_scores\u001b[0m\u001b[0;34m]\u001b[0m\u001b[0;34m\u001b[0m\u001b[0;34m\u001b[0m\u001b[0m\n\u001b[1;32m    180\u001b[0m       \u001b[0;32mreturn\u001b[0m \u001b[0msorted_docs\u001b[0m\u001b[0;34m\u001b[0m\u001b[0;34m\u001b[0m\u001b[0m\n",
            "\u001b[0;31mTypeError\u001b[0m: '<' not supported between instances of 'Document' and 'Document'"
          ]
        }
      ]
    },
    {
      "cell_type": "markdown",
      "source": [
        "## Results"
      ],
      "metadata": {
        "id": "k31vNB6hxuk8"
      }
    },
    {
      "cell_type": "markdown",
      "source": [
        "Обученный реранкер хуже оказался оригинального - что-то не так сделал похоже"
      ],
      "metadata": {
        "id": "XMwm0zCcxxvp"
      }
    },
    {
      "cell_type": "markdown",
      "source": [
        "emb model - v1\n",
        "\n",
        "emb chunks - 750 100\n",
        "\n",
        "self_querying +\n",
        "\n",
        "multi_query_retriever +\n",
        "\n",
        "EnsembleRetriever [0.35, 0.65]\n",
        "\n",
        "base reranker +\n",
        "\n",
        "top_k - 20\n",
        "\n",
        "generation - 15\n",
        "\n",
        "Metrics: {'context_precision': 0.8041, 'faithfulness': 0.6723, 'answer_relevancy': 0.6101, 'context_recall': 0.7307, 'answer_correctness': 0.5809}"
      ],
      "metadata": {
        "id": "GkmomWnlww1H"
      }
    },
    {
      "cell_type": "markdown",
      "source": [
        "emb model - v2\n",
        "\n",
        "emb chunks - 512 20\n",
        "\n",
        "self_querying +\n",
        "\n",
        "multi_query_retriever +\n",
        "\n",
        "EnsembleRetriever [0.4, 0.6]\n",
        "\n",
        "base reranker +\n",
        "\n",
        "top_k - 10\n",
        "\n",
        "generation - 15\n",
        "\n",
        "Metrics: {'context_precision': 0.8090, 'faithfulness': 0.5568, 'answer_relevancy': 0.5689, 'context_recall': 0.7694, 'answer_correctness': 0.5634}"
      ],
      "metadata": {
        "id": "9Xev-wmPSrHR"
      }
    },
    {
      "cell_type": "markdown",
      "source": [
        "emb model - v1\n",
        "\n",
        "emb chunks - 750 100\n",
        "\n",
        "self_querying +\n",
        "\n",
        "multi_query_retriever +\n",
        "\n",
        "generation - 10\n",
        "\n",
        "Metrics: {'context_precision': 0.8559, 'faithfulness': 0.0819, 'answer_relevancy': 0.6213, 'context_recall': 0.6223, 'answer_correctness': 0.5767}"
      ],
      "metadata": {
        "id": "JWbcM47BrMGP"
      }
    },
    {
      "cell_type": "markdown",
      "source": [
        "![image.png](data:image/png;base64,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)"
      ],
      "metadata": {
        "id": "PX_hslnl7LkJ"
      }
    },
    {
      "cell_type": "markdown",
      "source": [
        "## Valid on case test_data"
      ],
      "metadata": {
        "id": "rJj-9dE74_xr"
      }
    },
    {
      "cell_type": "code",
      "source": [
        "class Test_Evaluator:\n",
        "    \"\"\"\n",
        "    Class for evaluating pipeline on test set.\n",
        "    \"\"\"\n",
        "    def __init__(self, test_set_path: str):\n",
        "        self.raw_test_data = pd.read_excel(test_set_path).drop(columns=['evolution_type'])\n",
        "        self.test_data = self.raw_test_data\n",
        "        print(f\"Test data size {self.test_data.shape}\")\n",
        "\n",
        "    async def evaluate_pipe(self, pipeline) -> None:\n",
        "        \"\"\"\n",
        "        Evaluate pipeline on test set.\n",
        "        \"\"\"\n",
        "        answers = []\n",
        "        contexts = []\n",
        "        times = []\n",
        "        for item in tqdm(self.test_data['question'].values):\n",
        "            start_time = time.time()\n",
        "            result = await pipeline.predict(item)\n",
        "            end_time = time.time()\n",
        "            answers.append(result['answer'])\n",
        "            contexts.append(result['context'][:2])\n",
        "            times.append(end_time - start_time)\n",
        "\n",
        "        mean_time = sum(times) / len(times)\n",
        "        print(f\"Mean time for getting answer: {mean_time}\")\n",
        "\n",
        "        test_answers = self.test_data\n",
        "        test_answers['answer'] = answers\n",
        "        test_answers['contexts'] = contexts\n",
        "        test_answers.to_csv(\"test_answers_context.csv\")"
      ],
      "metadata": {
        "id": "571nysPC4xxH"
      },
      "execution_count": null,
      "outputs": []
    },
    {
      "cell_type": "code",
      "source": [
        "evaler = Test_Evaluator(\"test_npa_itmo.xlsx\")"
      ],
      "metadata": {
        "colab": {
          "base_uri": "https://localhost:8080/"
        },
        "id": "gyZYebRx5HAA",
        "outputId": "ced26e77-f79a-43cd-bc26-d174dc935632"
      },
      "execution_count": null,
      "outputs": [
        {
          "output_type": "stream",
          "name": "stdout",
          "text": [
            "Test data size (100, 1)\n"
          ]
        }
      ]
    },
    {
      "cell_type": "code",
      "source": [
        "await evaler.evaluate_pipe(pipeline)"
      ],
      "metadata": {
        "colab": {
          "base_uri": "https://localhost:8080/"
        },
        "id": "6fO_3dOvEqoN",
        "outputId": "983d24b2-924e-49c7-93a0-93899c21d4d9"
      },
      "execution_count": null,
      "outputs": [
        {
          "output_type": "stream",
          "name": "stderr",
          "text": [
            "100%|██████████| 100/100 [1:21:34<00:00, 48.94s/it]"
          ]
        },
        {
          "output_type": "stream",
          "name": "stdout",
          "text": [
            "Mean time for getting answer: 48.93863652467728\n"
          ]
        },
        {
          "output_type": "stream",
          "name": "stderr",
          "text": [
            "\n"
          ]
        }
      ]
    }
  ],
  "metadata": {
    "colab": {
      "machine_shape": "hm",
      "provenance": [],
      "toc_visible": true
    },
    "kernelspec": {
      "display_name": "Python 3",
      "name": "python3"
    },
    "language_info": {
      "codemirror_mode": {
        "name": "ipython",
        "version": 3
      },
      "file_extension": ".py",
      "mimetype": "text/x-python",
      "name": "python",
      "nbconvert_exporter": "python",
      "pygments_lexer": "ipython3",
      "version": "3.10.15"
    }
  },
  "nbformat": 4,
  "nbformat_minor": 0
}