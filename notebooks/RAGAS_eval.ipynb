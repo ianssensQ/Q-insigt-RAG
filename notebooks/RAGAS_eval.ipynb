{
 "cells": [
  {
   "cell_type": "code",
   "execution_count": 1,
   "id": "35ef9b2c-6411-4bee-8d79-bf7daa826384",
   "metadata": {},
   "outputs": [],
   "source": [
    "import ast\n",
    "import os\n",
    "\n",
    "import sys\n",
    "import tqdm\n",
    "import pandas as pd\n",
    "\n",
    "from datasets import Dataset\n",
    "from langchain_core.prompts import PromptTemplate\n",
    "from langchain_huggingface import HuggingFaceEmbeddings\n",
    "from langchain_openai import ChatOpenAI, OpenAIEmbeddings\n",
    "\n",
    "from pathlib import Path\n",
    "\n",
    "from ragas import EvaluationDataset\n",
    "from ragas import evaluate\n",
    "from ragas.embeddings import LangchainEmbeddingsWrapper\n",
    "from ragas.llms import LangchainLLMWrapper\n",
    "from ragas.metrics import LLMContextRecall, Faithfulness, FactualCorrectness\n",
    "from ragas.run_config import RunConfig\n",
    "\n",
    "sys.path.insert(0, str(Path().resolve().parent))\n",
    "\n",
    "from app.services.rag_pipeline.model import HybridRetriever, AnswerGenerator"
   ]
  },
  {
   "cell_type": "code",
   "execution_count": 3,
   "id": "fffd6b13-269f-41fc-ad1b-a88a8893275c",
   "metadata": {},
   "outputs": [],
   "source": [
    "testdataset = pd.read_csv('~/Work/data/q_insigt/q-insigt-testset.csv', index_col=False)"
   ]
  },
  {
   "cell_type": "code",
   "execution_count": 4,
   "id": "7271ec0e-bcf5-4e68-ac4f-b87e1ccb723d",
   "metadata": {},
   "outputs": [
    {
     "data": {
      "text/html": [
       "<div>\n",
       "<style scoped>\n",
       "    .dataframe tbody tr th:only-of-type {\n",
       "        vertical-align: middle;\n",
       "    }\n",
       "\n",
       "    .dataframe tbody tr th {\n",
       "        vertical-align: top;\n",
       "    }\n",
       "\n",
       "    .dataframe thead th {\n",
       "        text-align: right;\n",
       "    }\n",
       "</style>\n",
       "<table border=\"1\" class=\"dataframe\">\n",
       "  <thead>\n",
       "    <tr style=\"text-align: right;\">\n",
       "      <th></th>\n",
       "      <th>user_input</th>\n",
       "      <th>reference_contexts</th>\n",
       "      <th>reference</th>\n",
       "      <th>synthesizer_name</th>\n",
       "    </tr>\n",
       "  </thead>\n",
       "  <tbody>\n",
       "    <tr>\n",
       "      <th>0</th>\n",
       "      <td>Что произошло с Габеном в последнее время?</td>\n",
       "      <td>['POV – казуальный Габен, когда все ждут геймп...</td>\n",
       "      <td>Недавно Габен стал казуальным, когда все ждали...</td>\n",
       "      <td>single_hop_specifc_query_synthesizer</td>\n",
       "    </tr>\n",
       "    <tr>\n",
       "      <th>1</th>\n",
       "      <td>Что такое Kafka и почему это важно для работы ...</td>\n",
       "      <td>['#вакансия #Middle #DataAnalyst #fulltime #уд...</td>\n",
       "      <td>Kafka — это система, которая используется для ...</td>\n",
       "      <td>single_hop_specifc_query_synthesizer</td>\n",
       "    </tr>\n",
       "    <tr>\n",
       "      <th>2</th>\n",
       "      <td>Что такое Висп и почему его упоминают вместе с...</td>\n",
       "      <td>['Снова что-то на квинновском 🆗 Легко говорить...</td>\n",
       "      <td>Висп упоминается в контексте Лешего как одна и...</td>\n",
       "      <td>single_hop_specifc_query_synthesizer</td>\n",
       "    </tr>\n",
       "    <tr>\n",
       "      <th>3</th>\n",
       "      <td>Какой контракт выиграла Lockheed Martin и на к...</td>\n",
       "      <td>['Lockheed Martin выиграла контракт на противо...</td>\n",
       "      <td>Lockheed Martin выиграла контракт на противора...</td>\n",
       "      <td>single_hop_specifc_query_synthesizer</td>\n",
       "    </tr>\n",
       "    <tr>\n",
       "      <th>4</th>\n",
       "      <td>Кто получает мерч?</td>\n",
       "      <td>['Привет, Чемпионы!🏆\\n\\nСегодня произошло знам...</td>\n",
       "      <td>Мерч получает каждый, кто получил сертификат и...</td>\n",
       "      <td>single_hop_specifc_query_synthesizer</td>\n",
       "    </tr>\n",
       "  </tbody>\n",
       "</table>\n",
       "</div>"
      ],
      "text/plain": [
       "                                          user_input  \\\n",
       "0         Что произошло с Габеном в последнее время?   \n",
       "1  Что такое Kafka и почему это важно для работы ...   \n",
       "2  Что такое Висп и почему его упоминают вместе с...   \n",
       "3  Какой контракт выиграла Lockheed Martin и на к...   \n",
       "4                                 Кто получает мерч?   \n",
       "\n",
       "                                  reference_contexts  \\\n",
       "0  ['POV – казуальный Габен, когда все ждут геймп...   \n",
       "1  ['#вакансия #Middle #DataAnalyst #fulltime #уд...   \n",
       "2  ['Снова что-то на квинновском 🆗 Легко говорить...   \n",
       "3  ['Lockheed Martin выиграла контракт на противо...   \n",
       "4  ['Привет, Чемпионы!🏆\\n\\nСегодня произошло знам...   \n",
       "\n",
       "                                           reference  \\\n",
       "0  Недавно Габен стал казуальным, когда все ждали...   \n",
       "1  Kafka — это система, которая используется для ...   \n",
       "2  Висп упоминается в контексте Лешего как одна и...   \n",
       "3  Lockheed Martin выиграла контракт на противора...   \n",
       "4  Мерч получает каждый, кто получил сертификат и...   \n",
       "\n",
       "                       synthesizer_name  \n",
       "0  single_hop_specifc_query_synthesizer  \n",
       "1  single_hop_specifc_query_synthesizer  \n",
       "2  single_hop_specifc_query_synthesizer  \n",
       "3  single_hop_specifc_query_synthesizer  \n",
       "4  single_hop_specifc_query_synthesizer  "
      ]
     },
     "execution_count": 4,
     "metadata": {},
     "output_type": "execute_result"
    }
   ],
   "source": [
    "testdataset.head()"
   ]
  },
  {
   "cell_type": "code",
   "execution_count": 5,
   "id": "d4f718e8-7471-4983-b840-a7a0db3d906e",
   "metadata": {},
   "outputs": [],
   "source": [
    "testdataset['text'] = testdataset.reference_contexts.apply(lambda x: ast.literal_eval(x)[0])"
   ]
  },
  {
   "cell_type": "code",
   "execution_count": 6,
   "id": "b10cc9fa-a7d0-42ff-8772-837c2f719b80",
   "metadata": {},
   "outputs": [],
   "source": [
    "data_path = \"~/Work/data/q_insigt/telegram_posts.csv\"\n",
    "df = pd.read_csv(data_path)\n",
    "df = df.dropna(subset=['text'])"
   ]
  },
  {
   "cell_type": "code",
   "execution_count": 7,
   "id": "de63c3eb-5b20-4e23-9a87-7edfb7465800",
   "metadata": {},
   "outputs": [
    {
     "data": {
      "text/html": [
       "<div>\n",
       "<style scoped>\n",
       "    .dataframe tbody tr th:only-of-type {\n",
       "        vertical-align: middle;\n",
       "    }\n",
       "\n",
       "    .dataframe tbody tr th {\n",
       "        vertical-align: top;\n",
       "    }\n",
       "\n",
       "    .dataframe thead th {\n",
       "        text-align: right;\n",
       "    }\n",
       "</style>\n",
       "<table border=\"1\" class=\"dataframe\">\n",
       "  <thead>\n",
       "    <tr style=\"text-align: right;\">\n",
       "      <th></th>\n",
       "      <th>date</th>\n",
       "      <th>name</th>\n",
       "      <th>text</th>\n",
       "      <th>views</th>\n",
       "      <th>comments</th>\n",
       "      <th>forwards</th>\n",
       "      <th>emoji</th>\n",
       "      <th>reactions</th>\n",
       "      <th>subscribers</th>\n",
       "    </tr>\n",
       "  </thead>\n",
       "  <tbody>\n",
       "    <tr>\n",
       "      <th>0</th>\n",
       "      <td>2024-06-27 14:59:34</td>\n",
       "      <td>🏄 Соревновательный Data Science | Kaggle | Чем...</td>\n",
       "      <td>**👨‍💻**** Апдейт про Kaggle Camp, который вы ж...</td>\n",
       "      <td>755.0</td>\n",
       "      <td>2</td>\n",
       "      <td>3</td>\n",
       "      <td>👍: 14, ⚡: 7, ❤‍🔥: 3</td>\n",
       "      <td>24</td>\n",
       "      <td>2672</td>\n",
       "    </tr>\n",
       "    <tr>\n",
       "      <th>1</th>\n",
       "      <td>2024-06-25 15:33:36</td>\n",
       "      <td>🏄 Соревновательный Data Science | Kaggle | Чем...</td>\n",
       "      <td>👨‍💻 **Контент из сообщества**! \\n**\\n****🏄****...</td>\n",
       "      <td>877.0</td>\n",
       "      <td>3</td>\n",
       "      <td>19</td>\n",
       "      <td>👍: 16, Custom emoji: 7</td>\n",
       "      <td>23</td>\n",
       "      <td>2672</td>\n",
       "    </tr>\n",
       "    <tr>\n",
       "      <th>2</th>\n",
       "      <td>2024-06-24 12:06:49</td>\n",
       "      <td>🏄 Соревновательный Data Science | Kaggle | Чем...</td>\n",
       "      <td>🏆 [**Запись стрима**](https://youtu.be/kz__54Y...</td>\n",
       "      <td>1075.0</td>\n",
       "      <td>0</td>\n",
       "      <td>11</td>\n",
       "      <td>❤‍🔥: 10, Custom emoji: 2</td>\n",
       "      <td>12</td>\n",
       "      <td>2672</td>\n",
       "    </tr>\n",
       "    <tr>\n",
       "      <th>3</th>\n",
       "      <td>2024-06-21 14:10:38</td>\n",
       "      <td>🏄 Соревновательный Data Science | Kaggle | Чем...</td>\n",
       "      <td>Стрим случился! Всех причастных рады были увид...</td>\n",
       "      <td>1348.0</td>\n",
       "      <td>9</td>\n",
       "      <td>2</td>\n",
       "      <td>❤‍🔥: 4</td>\n",
       "      <td>4</td>\n",
       "      <td>2672</td>\n",
       "    </tr>\n",
       "    <tr>\n",
       "      <th>4</th>\n",
       "      <td>2024-06-21 12:45:52</td>\n",
       "      <td>🏄 Соревновательный Data Science | Kaggle | Чем...</td>\n",
       "      <td>Привет, работяги! 👨‍💻\\nКак неделя прошла? Есть...</td>\n",
       "      <td>1348.0</td>\n",
       "      <td>4</td>\n",
       "      <td>2</td>\n",
       "      <td>❤‍🔥: 10</td>\n",
       "      <td>10</td>\n",
       "      <td>2672</td>\n",
       "    </tr>\n",
       "  </tbody>\n",
       "</table>\n",
       "</div>"
      ],
      "text/plain": [
       "                  date                                               name  \\\n",
       "0  2024-06-27 14:59:34  🏄 Соревновательный Data Science | Kaggle | Чем...   \n",
       "1  2024-06-25 15:33:36  🏄 Соревновательный Data Science | Kaggle | Чем...   \n",
       "2  2024-06-24 12:06:49  🏄 Соревновательный Data Science | Kaggle | Чем...   \n",
       "3  2024-06-21 14:10:38  🏄 Соревновательный Data Science | Kaggle | Чем...   \n",
       "4  2024-06-21 12:45:52  🏄 Соревновательный Data Science | Kaggle | Чем...   \n",
       "\n",
       "                                                text   views  comments  \\\n",
       "0  **👨‍💻**** Апдейт про Kaggle Camp, который вы ж...   755.0         2   \n",
       "1  👨‍💻 **Контент из сообщества**! \\n**\\n****🏄****...   877.0         3   \n",
       "2  🏆 [**Запись стрима**](https://youtu.be/kz__54Y...  1075.0         0   \n",
       "3  Стрим случился! Всех причастных рады были увид...  1348.0         9   \n",
       "4  Привет, работяги! 👨‍💻\\nКак неделя прошла? Есть...  1348.0         4   \n",
       "\n",
       "   forwards                     emoji  reactions  subscribers  \n",
       "0         3       👍: 14, ⚡: 7, ❤‍🔥: 3         24         2672  \n",
       "1        19    👍: 16, Custom emoji: 7         23         2672  \n",
       "2        11  ❤‍🔥: 10, Custom emoji: 2         12         2672  \n",
       "3         2                    ❤‍🔥: 4          4         2672  \n",
       "4         2                   ❤‍🔥: 10         10         2672  "
      ]
     },
     "execution_count": 7,
     "metadata": {},
     "output_type": "execute_result"
    }
   ],
   "source": [
    "df.head()"
   ]
  },
  {
   "cell_type": "code",
   "execution_count": 8,
   "id": "ed80d126-d23f-4767-a4e5-d4d1ad0ce568",
   "metadata": {},
   "outputs": [],
   "source": [
    "testdataset = testdataset.merge(df[['text', 'name']], on='text')"
   ]
  },
  {
   "cell_type": "code",
   "execution_count": 9,
   "id": "3a3f87e3-44df-46de-bc23-1d040e13ec9d",
   "metadata": {},
   "outputs": [
    {
     "data": {
      "text/html": [
       "<div>\n",
       "<style scoped>\n",
       "    .dataframe tbody tr th:only-of-type {\n",
       "        vertical-align: middle;\n",
       "    }\n",
       "\n",
       "    .dataframe tbody tr th {\n",
       "        vertical-align: top;\n",
       "    }\n",
       "\n",
       "    .dataframe thead th {\n",
       "        text-align: right;\n",
       "    }\n",
       "</style>\n",
       "<table border=\"1\" class=\"dataframe\">\n",
       "  <thead>\n",
       "    <tr style=\"text-align: right;\">\n",
       "      <th></th>\n",
       "      <th>user_input</th>\n",
       "      <th>reference_contexts</th>\n",
       "      <th>reference</th>\n",
       "      <th>synthesizer_name</th>\n",
       "      <th>text</th>\n",
       "      <th>name</th>\n",
       "    </tr>\n",
       "  </thead>\n",
       "  <tbody>\n",
       "    <tr>\n",
       "      <th>0</th>\n",
       "      <td>Что произошло с Габеном в последнее время?</td>\n",
       "      <td>['POV – казуальный Габен, когда все ждут геймп...</td>\n",
       "      <td>Недавно Габен стал казуальным, когда все ждали...</td>\n",
       "      <td>single_hop_specifc_query_synthesizer</td>\n",
       "      <td>POV – казуальный Габен, когда все ждут геймпле...</td>\n",
       "      <td>BetBoom Esports Dota 2</td>\n",
       "    </tr>\n",
       "    <tr>\n",
       "      <th>1</th>\n",
       "      <td>Что такое Kafka и почему это важно для работы ...</td>\n",
       "      <td>['#вакансия #Middle #DataAnalyst #fulltime #уд...</td>\n",
       "      <td>Kafka — это система, которая используется для ...</td>\n",
       "      <td>single_hop_specifc_query_synthesizer</td>\n",
       "      <td>#вакансия #Middle #DataAnalyst #fulltime #удал...</td>\n",
       "      <td>Data Science Jobs</td>\n",
       "    </tr>\n",
       "    <tr>\n",
       "      <th>2</th>\n",
       "      <td>Что такое Висп и почему его упоминают вместе с...</td>\n",
       "      <td>['Снова что-то на квинновском 🆗 Легко говорить...</td>\n",
       "      <td>Висп упоминается в контексте Лешего как одна и...</td>\n",
       "      <td>single_hop_specifc_query_synthesizer</td>\n",
       "      <td>Снова что-то на квинновском 🆗 Легко говорить, ...</td>\n",
       "      <td>BetBoom Esports Dota 2</td>\n",
       "    </tr>\n",
       "    <tr>\n",
       "      <th>3</th>\n",
       "      <td>Какой контракт выиграла Lockheed Martin и на к...</td>\n",
       "      <td>['Lockheed Martin выиграла контракт на противо...</td>\n",
       "      <td>Lockheed Martin выиграла контракт на противора...</td>\n",
       "      <td>single_hop_specifc_query_synthesizer</td>\n",
       "      <td>Lockheed Martin выиграла контракт на противора...</td>\n",
       "      <td>Больше, чем экономика</td>\n",
       "    </tr>\n",
       "    <tr>\n",
       "      <th>4</th>\n",
       "      <td>Кто получает мерч?</td>\n",
       "      <td>['Привет, Чемпионы!🏆\\n\\nСегодня произошло знам...</td>\n",
       "      <td>Мерч получает каждый, кто получил сертификат и...</td>\n",
       "      <td>single_hop_specifc_query_synthesizer</td>\n",
       "      <td>Привет, Чемпионы!🏆\\n\\nСегодня произошло знамен...</td>\n",
       "      <td>🏄 Соревновательный Data Science | Kaggle | Чем...</td>\n",
       "    </tr>\n",
       "  </tbody>\n",
       "</table>\n",
       "</div>"
      ],
      "text/plain": [
       "                                          user_input  \\\n",
       "0         Что произошло с Габеном в последнее время?   \n",
       "1  Что такое Kafka и почему это важно для работы ...   \n",
       "2  Что такое Висп и почему его упоминают вместе с...   \n",
       "3  Какой контракт выиграла Lockheed Martin и на к...   \n",
       "4                                 Кто получает мерч?   \n",
       "\n",
       "                                  reference_contexts  \\\n",
       "0  ['POV – казуальный Габен, когда все ждут геймп...   \n",
       "1  ['#вакансия #Middle #DataAnalyst #fulltime #уд...   \n",
       "2  ['Снова что-то на квинновском 🆗 Легко говорить...   \n",
       "3  ['Lockheed Martin выиграла контракт на противо...   \n",
       "4  ['Привет, Чемпионы!🏆\\n\\nСегодня произошло знам...   \n",
       "\n",
       "                                           reference  \\\n",
       "0  Недавно Габен стал казуальным, когда все ждали...   \n",
       "1  Kafka — это система, которая используется для ...   \n",
       "2  Висп упоминается в контексте Лешего как одна и...   \n",
       "3  Lockheed Martin выиграла контракт на противора...   \n",
       "4  Мерч получает каждый, кто получил сертификат и...   \n",
       "\n",
       "                       synthesizer_name  \\\n",
       "0  single_hop_specifc_query_synthesizer   \n",
       "1  single_hop_specifc_query_synthesizer   \n",
       "2  single_hop_specifc_query_synthesizer   \n",
       "3  single_hop_specifc_query_synthesizer   \n",
       "4  single_hop_specifc_query_synthesizer   \n",
       "\n",
       "                                                text  \\\n",
       "0  POV – казуальный Габен, когда все ждут геймпле...   \n",
       "1  #вакансия #Middle #DataAnalyst #fulltime #удал...   \n",
       "2  Снова что-то на квинновском 🆗 Легко говорить, ...   \n",
       "3  Lockheed Martin выиграла контракт на противора...   \n",
       "4  Привет, Чемпионы!🏆\\n\\nСегодня произошло знамен...   \n",
       "\n",
       "                                                name  \n",
       "0                             BetBoom Esports Dota 2  \n",
       "1                                  Data Science Jobs  \n",
       "2                             BetBoom Esports Dota 2  \n",
       "3                              Больше, чем экономика  \n",
       "4  🏄 Соревновательный Data Science | Kaggle | Чем...  "
      ]
     },
     "execution_count": 9,
     "metadata": {},
     "output_type": "execute_result"
    }
   ],
   "source": [
    "testdataset.head()"
   ]
  },
  {
   "cell_type": "code",
   "execution_count": 13,
   "id": "453f094a-b5b1-4f1d-84d7-5dfd0dcff109",
   "metadata": {},
   "outputs": [
    {
     "name": "stdout",
     "output_type": "stream",
     "text": [
      "Коллекция уже есть и не пересоздаётся\n"
     ]
    },
    {
     "data": {
      "text/plain": [
       "'Collection already exists'"
      ]
     },
     "execution_count": 13,
     "metadata": {},
     "output_type": "execute_result"
    }
   ],
   "source": [
    "embeddings = HuggingFaceEmbeddings(model_name=\"intfloat/e5-base-v2\")\n",
    "retriever = HybridRetriever(\n",
    "    uri=\"http://localhost:54637\",\n",
    "    collection_name=\"main_e5\",\n",
    "    dense_embedding_function=embeddings\n",
    ")\n",
    "retriever.build_collection(recreation=False)"
   ]
  },
  {
   "cell_type": "code",
   "execution_count": 12,
   "id": "c7c1bb1a-b462-49ac-bb97-b62d53955066",
   "metadata": {},
   "outputs": [
    {
     "name": "stdout",
     "output_type": "stream",
     "text": [
      "Создали новую коллекцию  в Milvus\n"
     ]
    },
    {
     "name": "stderr",
     "output_type": "stream",
     "text": [
      "100%|███████████████████████████████████████| 4508/4508 [06:33<00:00, 11.45it/s]\n"
     ]
    }
   ],
   "source": [
    "embeddings = HuggingFaceEmbeddings(model_name=\"intfloat/e5-base-v2\")\n",
    "retriever = HybridRetriever(\n",
    "    uri=\"http://localhost:54637\",\n",
    "    collection_name=\"main_e5\",\n",
    "    dense_embedding_function=embeddings\n",
    ")\n",
    "retriever.build_collection(recreation=True)\n",
    "\n",
    "for index, row in tqdm.tqdm(df.iterrows(), total=df.shape[0]):\n",
    "    retriever.insert_data(\n",
    "        {\"message\": row['text'], 'chat_name': row['name'], 'chat_message_id': index}\n",
    "    )"
   ]
  },
  {
   "cell_type": "code",
   "execution_count": 14,
   "id": "86b2525c-772e-4923-ad0b-215b72d2835a",
   "metadata": {},
   "outputs": [
    {
     "name": "stderr",
     "output_type": "stream",
     "text": [
      "100%|█████████████████████████████████████████| 100/100 [05:23<00:00,  3.24s/it]\n"
     ]
    }
   ],
   "source": [
    "generator = AnswerGenerator(retriever)\n",
    "retriever_params = {\n",
    "    'k': 20,\n",
    "    'mode': 'hybrid',\n",
    "    'k_rerank': 10,\n",
    "}\n",
    "\n",
    "dataset = []\n",
    "for index, row in tqdm.tqdm(testdataset.iterrows(), total=testdataset.shape[0]):\n",
    "    answer, context = await generator.generate_answer(\n",
    "        row['user_input'],\n",
    "        chat_names=[row['name']],\n",
    "        retriever_params=retriever_params\n",
    "    )\n",
    "\n",
    "    dataset.append(\n",
    "        {\n",
    "            \"user_input\": row['user_input'],\n",
    "            \"retrieved_contexts\": context,\n",
    "            \"response\": answer,\n",
    "            \"reference\": row['reference']\n",
    "        }\n",
    "    )"
   ]
  },
  {
   "cell_type": "code",
   "execution_count": 15,
   "id": "913aed1b-4a0b-4be0-aed0-9492a81fc100",
   "metadata": {},
   "outputs": [],
   "source": [
    "eval_dataset = EvaluationDataset.from_list(dataset)"
   ]
  },
  {
   "cell_type": "code",
   "execution_count": 16,
   "id": "0ae1bad6-b200-4699-82ec-a12827dfaeda",
   "metadata": {},
   "outputs": [],
   "source": [
    "llm = LangchainLLMWrapper(ChatOpenAI(model=\"gpt-4o-mini\"))\n",
    "embeddings = LangchainEmbeddingsWrapper(OpenAIEmbeddings(model=\"text-embedding-3-small\"))"
   ]
  },
  {
   "cell_type": "code",
   "execution_count": 17,
   "id": "fee2c167-740e-4808-87c8-2fc0f1c83db6",
   "metadata": {},
   "outputs": [],
   "source": [
    "metrics=[\n",
    "    LLMContextRecall(), \n",
    "    Faithfulness(), \n",
    "    FactualCorrectness(),\n",
    "]"
   ]
  },
  {
   "cell_type": "code",
   "execution_count": 18,
   "id": "8b0b5a83-fa29-4480-93e0-06b598a26275",
   "metadata": {},
   "outputs": [
    {
     "data": {
      "application/vnd.jupyter.widget-view+json": {
       "model_id": "09d930f33f6548bf8a8bf4953ceb469d",
       "version_major": 2,
       "version_minor": 0
      },
      "text/plain": [
       "Evaluating:   0%|          | 0/300 [00:00<?, ?it/s]"
      ]
     },
     "metadata": {},
     "output_type": "display_data"
    },
    {
     "name": "stderr",
     "output_type": "stream",
     "text": [
      "Exception raised in Job[14]: TimeoutError()\n",
      "Exception raised in Job[67]: TimeoutError()\n",
      "Exception raised in Job[190]: TimeoutError()\n",
      "Exception raised in Job[213]: TimeoutError()\n",
      "Exception raised in Job[241]: TimeoutError()\n",
      "Exception raised in Job[244]: TimeoutError()\n",
      "Exception raised in Job[283]: APIConnectionError(Connection error.)\n",
      "Exception raised in Job[289]: APIConnectionError(Connection error.)\n"
     ]
    }
   ],
   "source": [
    "evaluator_llm = LangchainLLMWrapper(llm)\n",
    "\n",
    "result = evaluate(\n",
    "    dataset=eval_dataset, \n",
    "    llm=llm,\n",
    "    embeddings=embeddings,\n",
    "    metrics=metrics,\n",
    "    run_config=RunConfig(\n",
    "        timeout=180,\n",
    "        max_retries=10,\n",
    "        max_wait = 180,\n",
    "        max_workers= 1, \n",
    "    ),\n",
    ")"
   ]
  },
  {
   "cell_type": "code",
   "execution_count": 19,
   "id": "c2b43843-85c4-4a6f-9bd4-69e502d651b0",
   "metadata": {},
   "outputs": [
    {
     "data": {
      "text/plain": [
       "{'context_recall': 0.9512, 'faithfulness': 0.9178, 'factual_correctness': 0.6451}"
      ]
     },
     "execution_count": 19,
     "metadata": {},
     "output_type": "execute_result"
    }
   ],
   "source": [
    "result"
   ]
  },
  {
   "cell_type": "markdown",
   "id": "2b909648-9514-44d3-bdd0-3e4a5e72b96e",
   "metadata": {},
   "source": [
    "### Результаты валидации\n",
    "\n",
    "| Embedding model  | Ranker                              | Context Recall | Faithfulness | Factual Correctness |\n",
    "|------------------|-------------------------------------|----------------|--------------|---------------------|\n",
    "| all-MiniLM-L6-v2 | Weighted (k=20, weights=[0.5, 0.5]) | 0.9456         | 0.9011       | 0.6360              |\n",
    "| all-MiniLM-L6-v2 | RRF (k=20, k_rerank=10)             | 0.9400         | 0.9173       | 0.6091              |\n",
    "| e5-base-v2       | Weighted (k=20, weights=[0.5, 0.5]) | 0.9596         | 0.9200       | 0.6236              |\n",
    "| e5-base-v2       | RRF (k=20, k_rerank=10)             | 0.9512         | 0.9178       | 0.6451              |"
   ]
  },
  {
   "cell_type": "markdown",
   "id": "35d34277-8c80-4a5f-af4f-9219b473c7d0",
   "metadata": {},
   "source": []
  }
 ],
 "metadata": {
  "kernelspec": {
   "display_name": "Python 3 (ipykernel)",
   "language": "python",
   "name": "python3"
  },
  "language_info": {
   "codemirror_mode": {
    "name": "ipython",
    "version": 3
   },
   "file_extension": ".py",
   "mimetype": "text/x-python",
   "name": "python",
   "nbconvert_exporter": "python",
   "pygments_lexer": "ipython3",
   "version": "3.11.9"
  }
 },
 "nbformat": 4,
 "nbformat_minor": 5
}
