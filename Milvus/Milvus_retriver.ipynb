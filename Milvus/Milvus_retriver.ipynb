{
 "cells": [
  {
   "cell_type": "markdown",
   "id": "09512415-e5cd-4ccf-b6e7-d2f067cca244",
   "metadata": {},
   "source": [
    "# Гибридный поиск на основе milvus"
   ]
  },
  {
   "cell_type": "code",
   "execution_count": 1,
   "id": "0973e337-eba7-4408-bff9-7f66a53a5368",
   "metadata": {},
   "outputs": [],
   "source": [
    "from pymilvus import (\n",
    "    MilvusClient,\n",
    "    DataType,\n",
    "    Function,\n",
    "    FunctionType,\n",
    "    AnnSearchRequest,\n",
    "    WeightedRanker,\n",
    "    RRFRanker\n",
    ")\n",
    "\n",
    "import nltk\n",
    "from nltk.corpus import stopwords\n",
    "\n",
    "from langchain_huggingface import HuggingFaceEmbeddings"
   ]
  },
  {
   "cell_type": "markdown",
   "id": "ec550c1d-9b70-438c-aecd-49731f1be1f3",
   "metadata": {},
   "source": [
    "#### Загружаем стоп слова"
   ]
  },
  {
   "cell_type": "code",
   "execution_count": 10,
   "id": "a722d5d9-23ae-476b-a4f1-9167c9d321ac",
   "metadata": {},
   "outputs": [
    {
     "name": "stderr",
     "output_type": "stream",
     "text": [
      "[nltk_data] Downloading package stopwords to\n",
      "[nltk_data]     C:\\Users\\mariya.kuznetsova\\AppData\\Roaming\\nltk_data..\n",
      "[nltk_data]     .\n",
      "[nltk_data]   Package stopwords is already up-to-date!\n"
     ]
    }
   ],
   "source": [
    "# Загружаем стоп-слова для русского языка\n",
    "nltk.download(\"stopwords\")\n",
    "russian_stopwords = stopwords.words(\"russian\")"
   ]
  },
  {
   "cell_type": "markdown",
   "id": "b91c2464-b753-4db7-8680-5c7d484fe38a",
   "metadata": {},
   "source": [
    "### Класс для гибридного поиска в milvus"
   ]
  },
  {
   "cell_type": "code",
   "execution_count": 153,
   "id": "fd40b523-9cad-4a13-95ac-4ee72be171e7",
   "metadata": {},
   "outputs": [],
   "source": [
    "class HybridRetriever:\n",
    "    def __init__(self, uri, collection_name=\"Messages\", dense_embedding_function=None):\n",
    "        self.uri = uri\n",
    "        self.collection_name = collection_name\n",
    "        self.embedding_function = dense_embedding_function\n",
    "        self.client = MilvusClient(uri=uri)\n",
    "\n",
    "    def build_collection(self):\n",
    "        dense_dim = len(self.embedding_function.embed_query('test'))\n",
    "\n",
    "        if self.client.has_collection(collection_name=self.collection_name):\n",
    "            self.client.drop_collection(collection_name=self.collection_name)\n",
    "\n",
    "        tokenizer_params = {\n",
    "            \"tokenizer\": \"standard\",\n",
    "            \"filter\": [\n",
    "                {\"type\": \"stemmer\", \"language\": \"russian\"},\n",
    "                {\n",
    "                    \"type\": \"stop\",\n",
    "                    \"stop_words\": russian_stopwords,\n",
    "                },\n",
    "            ],\n",
    "        }\n",
    "\n",
    "        schema = MilvusClient.create_schema()\n",
    "        schema.add_field(\n",
    "            field_name=\"id\",\n",
    "            datatype=DataType.INT64,\n",
    "            is_primary=True,\n",
    "            auto_id=True\n",
    "        )\n",
    "        schema.add_field(\n",
    "            field_name=\"message\",\n",
    "            datatype=DataType.VARCHAR,\n",
    "            max_length=20000,\n",
    "            analyzer_params=tokenizer_params,\n",
    "            enable_match=True,\n",
    "            enable_analyzer=True,\n",
    "        )\n",
    "        schema.add_field(\n",
    "            field_name=\"sparse_vector\", datatype=DataType.SPARSE_FLOAT_VECTOR\n",
    "        )\n",
    "        schema.add_field(\n",
    "            field_name=\"dense_vector\", datatype=DataType.FLOAT_VECTOR, dim=dense_dim\n",
    "        )\n",
    "        schema.add_field(\n",
    "            field_name=\"chat_message_id\",\n",
    "            datatype=DataType.INT64\n",
    "        )\n",
    "        schema.add_field(\n",
    "            field_name=\"chat_name\", datatype=DataType.VARCHAR, max_length=200\n",
    "        )\n",
    "\n",
    "        functions = Function(\n",
    "            name=\"bm25\",\n",
    "            function_type=FunctionType.BM25,\n",
    "            input_field_names=[\"message\"],\n",
    "            output_field_names=\"sparse_vector\",\n",
    "        )\n",
    "\n",
    "        schema.add_function(functions)\n",
    "\n",
    "        index_params = MilvusClient.prepare_index_params()\n",
    "        index_params.add_index(\n",
    "            field_name=\"sparse_vector\",\n",
    "            index_type=\"SPARSE_INVERTED_INDEX\",\n",
    "            metric_type=\"BM25\",\n",
    "        )\n",
    "        index_params.add_index(\n",
    "            field_name=\"dense_vector\", index_type=\"FLAT\", metric_type=\"IP\"\n",
    "        )\n",
    "\n",
    "        self.client.create_collection(\n",
    "            collection_name=self.collection_name,\n",
    "            schema=schema,\n",
    "            index_params=index_params,\n",
    "        )\n",
    "\n",
    "    def insert_data(self, metadata):\n",
    "        embedding = self.embedding_function.embed_documents([metadata['message']])\n",
    "        dense_vec = embedding[0]\n",
    "        self.client.insert(\n",
    "            self.collection_name, {\"dense_vector\": dense_vec, **metadata}\n",
    "        )\n",
    "\n",
    "    async def search(self, query: str, chat_names: list, k: int = 20, mode=\"hybrid\", weights=[0.5, 0.5], k_rerank=100):\n",
    "\n",
    "        output_fields = [\n",
    "            \"message\",\n",
    "            \"chat_name\",\n",
    "        ]\n",
    "        filter_expression = f\"chat_name in [{\", \".join(f'\\\"{name}\\\"' for name in chat_names)}]\"\n",
    "        \n",
    "        if mode in [\"dense\", \"hybrid\"]:\n",
    "            embedding = self.embedding_function.embed_query(query)\n",
    "            dense_vec = embedding\n",
    "\n",
    "        if mode == \"sparse\":\n",
    "            results = self.client.search(\n",
    "                collection_name=self.collection_name,\n",
    "                data=[query],\n",
    "                anns_field=\"sparse_vector\",\n",
    "                limit=k,\n",
    "                filter=filter_expression,\n",
    "                output_fields=output_fields,\n",
    "            )\n",
    "        elif mode == \"dense\":\n",
    "            results = self.client.search(\n",
    "                collection_name=self.collection_name,\n",
    "                data=[dense_vec],\n",
    "                anns_field=\"dense_vector\",\n",
    "                limit=k,\n",
    "                filter=filter_expression,\n",
    "                output_fields=output_fields,\n",
    "            )\n",
    "        elif mode == \"hybrid\":\n",
    "            full_text_search_params = {\"metric_type\": \"BM25\"}\n",
    "            full_text_search_req = AnnSearchRequest(\n",
    "                [query], \"sparse_vector\", full_text_search_params, limit=k, expr=filter_expression,\n",
    "            )\n",
    "\n",
    "            dense_search_params = {\"metric_type\": \"IP\"}\n",
    "            dense_req = AnnSearchRequest(\n",
    "                [dense_vec], \"dense_vector\", dense_search_params, limit=k, expr=filter_expression,\n",
    "            )\n",
    "\n",
    "            results = self.client.hybrid_search(\n",
    "                self.collection_name,\n",
    "                [full_text_search_req, dense_req],\n",
    "                # ranker=WeightedRanker(*weights),\n",
    "                ranker=RRFRanker(k=k_rerank),\n",
    "                limit=k,\n",
    "                filter=filter_expression,\n",
    "                output_fields=output_fields,\n",
    "            )\n",
    "        else:\n",
    "            raise ValueError(\"Invalid mode\")\n",
    "        return [\n",
    "            {\n",
    "                \"message\": doc[\"entity\"][\"message\"],\n",
    "                \"chat_name\": doc[\"entity\"][\"chat_name\"],\n",
    "                \"score\": doc[\"distance\"],\n",
    "            }\n",
    "            for doc in results[0]\n",
    "        ]"
   ]
  },
  {
   "cell_type": "markdown",
   "id": "918a2772-36b5-457f-9f03-66c656d84bda",
   "metadata": {},
   "source": [
    "### Выбираем модель эмбеддингов и создаем ретривер"
   ]
  },
  {
   "cell_type": "code",
   "execution_count": 114,
   "id": "a2b588a7-760e-4dfa-9162-af13227912ed",
   "metadata": {},
   "outputs": [],
   "source": [
    "embeddings = HuggingFaceEmbeddings(model_name=\"all-MiniLM-L6-v2\")"
   ]
  },
  {
   "cell_type": "code",
   "execution_count": 154,
   "id": "07f83dc1-7ff0-4538-a2ef-f5370fd88145",
   "metadata": {},
   "outputs": [],
   "source": [
    "retriever = HybridRetriever(\n",
    "    uri=\"http://localhost:19530\", \n",
    "    collection_name=\"Messages\", \n",
    "    dense_embedding_function=embeddings)\n",
    "retriever.build_collection()"
   ]
  },
  {
   "cell_type": "markdown",
   "id": "0236b7ac-61c9-4b43-8803-a9c9e6409c8c",
   "metadata": {},
   "source": [
    "### Загружаем данные"
   ]
  },
  {
   "cell_type": "code",
   "execution_count": 156,
   "id": "0ca298a5-d8eb-4db8-b122-633d127adde9",
   "metadata": {},
   "outputs": [],
   "source": [
    "retriever.insert_data({\"message\": 'Сегодня холодно', 'chat_name': 'Погода', 'chat_message_id': 0})\n",
    "retriever.insert_data({\"message\": 'Завтра 10 градусов и сильный ветер', 'chat_name': 'Погода', 'chat_message_id': 1})\n",
    "retriever.insert_data({\"message\": '10 декабря сильный ветер и -10 градусов', 'chat_name': 'Погода', 'chat_message_id': 2})\n",
    "\n",
    "retriever.insert_data({\"message\": 'Сегодня концер Егора крида', 'chat_name': 'Афиша', 'chat_message_id': 0})\n",
    "retriever.insert_data({\"message\": '10 ноября стендап Абрамова ветер', 'chat_name': 'Афиша', 'chat_message_id': 1})\n",
    "retriever.insert_data({\"message\": '11 декабря стендап Усовича', 'chat_name': 'Афиша', 'chat_message_id': 2})\n",
    "\n",
    "retriever.insert_data({\"message\": 'Сегодня концер Егора крида', 'chat_name': 'Концерты', 'chat_message_id': 0})\n",
    "retriever.insert_data({\"message\": '10 ноября стендап Абрамова ветер', 'chat_name': 'Концерты', 'chat_message_id': 1})\n",
    "retriever.insert_data({\"message\": '11 декабря стендап Усовича', 'chat_name': 'Концерты', 'chat_message_id': 2})"
   ]
  },
  {
   "cell_type": "markdown",
   "id": "f1589e24-6c6e-4879-aa30-18d85becc8b2",
   "metadata": {},
   "source": [
    "### Пробный поиск"
   ]
  },
  {
   "cell_type": "code",
   "execution_count": 158,
   "id": "0dcdb678-6bcb-42ce-90a1-324985dd9b1f",
   "metadata": {},
   "outputs": [
    {
     "data": {
      "text/plain": [
       "[{'message': 'Завтра 10 градусов и сильный ветер',\n",
       "  'chat_name': 'Погода',\n",
       "  'score': 0.1818181872367859},\n",
       " {'message': '10 декабря сильный ветер и -10 градусов',\n",
       "  'chat_name': 'Погода',\n",
       "  'score': 0.16025641560554504},\n",
       " {'message': 'Сегодня холодно',\n",
       "  'chat_name': 'Погода',\n",
       "  'score': 0.0833333358168602}]"
      ]
     },
     "execution_count": 158,
     "metadata": {},
     "output_type": "execute_result"
    }
   ],
   "source": [
    "await retriever.search('Когда сильный ветер?', chat_names=[\"Погода\"], k = 20, mode=\"hybrid\", weights=[0.5, 0.5], k_rerank=10)"
   ]
  }
 ],
 "metadata": {
  "kernelspec": {
   "display_name": "Python 3 (ipykernel)",
   "language": "python",
   "name": "python3"
  },
  "language_info": {
   "codemirror_mode": {
    "name": "ipython",
    "version": 3
   },
   "file_extension": ".py",
   "mimetype": "text/x-python",
   "name": "python",
   "nbconvert_exporter": "python",
   "pygments_lexer": "ipython3",
   "version": "3.12.4"
  }
 },
 "nbformat": 4,
 "nbformat_minor": 5
}
